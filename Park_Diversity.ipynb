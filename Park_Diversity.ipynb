{
 "cells": [
  {
   "cell_type": "code",
   "execution_count": 1,
   "metadata": {},
   "outputs": [],
   "source": [
    "import pandas as pd\n",
    "import numpy as np\n",
    "import matplotlib.pyplot as plt\n",
    "%matplotlib inline\n",
    "import seaborn as sns\n",
    "sns.set(style=\"darkgrid\")\n",
    "import warnings\n",
    "warnings.simplefilter(\"ignore\")"
   ]
  },
  {
   "cell_type": "code",
   "execution_count": 32,
   "metadata": {},
   "outputs": [
    {
     "data": {
      "text/html": [
       "<div>\n",
       "<style scoped>\n",
       "    .dataframe tbody tr th:only-of-type {\n",
       "        vertical-align: middle;\n",
       "    }\n",
       "\n",
       "    .dataframe tbody tr th {\n",
       "        vertical-align: top;\n",
       "    }\n",
       "\n",
       "    .dataframe thead th {\n",
       "        text-align: right;\n",
       "    }\n",
       "</style>\n",
       "<table border=\"1\" class=\"dataframe\">\n",
       "  <thead>\n",
       "    <tr style=\"text-align: right;\">\n",
       "      <th></th>\n",
       "      <th>Park Code</th>\n",
       "      <th>Park Name</th>\n",
       "      <th>State</th>\n",
       "      <th>Acres</th>\n",
       "      <th>Latitude</th>\n",
       "      <th>Longitude</th>\n",
       "    </tr>\n",
       "  </thead>\n",
       "  <tbody>\n",
       "    <tr>\n",
       "      <td>0</td>\n",
       "      <td>ACAD</td>\n",
       "      <td>Acadia National Park</td>\n",
       "      <td>ME</td>\n",
       "      <td>47390</td>\n",
       "      <td>44.35</td>\n",
       "      <td>-68.21</td>\n",
       "    </tr>\n",
       "    <tr>\n",
       "      <td>1</td>\n",
       "      <td>ARCH</td>\n",
       "      <td>Arches National Park</td>\n",
       "      <td>UT</td>\n",
       "      <td>76519</td>\n",
       "      <td>38.68</td>\n",
       "      <td>-109.57</td>\n",
       "    </tr>\n",
       "    <tr>\n",
       "      <td>2</td>\n",
       "      <td>BADL</td>\n",
       "      <td>Badlands National Park</td>\n",
       "      <td>SD</td>\n",
       "      <td>242756</td>\n",
       "      <td>43.75</td>\n",
       "      <td>-102.50</td>\n",
       "    </tr>\n",
       "    <tr>\n",
       "      <td>3</td>\n",
       "      <td>BIBE</td>\n",
       "      <td>Big Bend National Park</td>\n",
       "      <td>TX</td>\n",
       "      <td>801163</td>\n",
       "      <td>29.25</td>\n",
       "      <td>-103.25</td>\n",
       "    </tr>\n",
       "    <tr>\n",
       "      <td>4</td>\n",
       "      <td>BISC</td>\n",
       "      <td>Biscayne National Park</td>\n",
       "      <td>FL</td>\n",
       "      <td>172924</td>\n",
       "      <td>25.65</td>\n",
       "      <td>-80.08</td>\n",
       "    </tr>\n",
       "  </tbody>\n",
       "</table>\n",
       "</div>"
      ],
      "text/plain": [
       "  Park Code               Park Name State   Acres  Latitude  Longitude\n",
       "0      ACAD    Acadia National Park    ME   47390     44.35     -68.21\n",
       "1      ARCH    Arches National Park    UT   76519     38.68    -109.57\n",
       "2      BADL  Badlands National Park    SD  242756     43.75    -102.50\n",
       "3      BIBE  Big Bend National Park    TX  801163     29.25    -103.25\n",
       "4      BISC  Biscayne National Park    FL  172924     25.65     -80.08"
      ]
     },
     "execution_count": 32,
     "metadata": {},
     "output_type": "execute_result"
    }
   ],
   "source": [
    "df_parks = pd.read_csv('parks.csv')\n",
    "df_parks.head()"
   ]
  },
  {
   "cell_type": "code",
   "execution_count": 33,
   "metadata": {},
   "outputs": [
    {
     "name": "stdout",
     "output_type": "stream",
     "text": [
      "<class 'pandas.core.frame.DataFrame'>\n",
      "RangeIndex: 56 entries, 0 to 55\n",
      "Data columns (total 6 columns):\n",
      "Park Code    56 non-null object\n",
      "Park Name    56 non-null object\n",
      "State        56 non-null object\n",
      "Acres        56 non-null int64\n",
      "Latitude     56 non-null float64\n",
      "Longitude    56 non-null float64\n",
      "dtypes: float64(2), int64(1), object(3)\n",
      "memory usage: 2.8+ KB\n"
     ]
    }
   ],
   "source": [
    "df_parks.info()"
   ]
  },
  {
   "cell_type": "code",
   "execution_count": 34,
   "metadata": {},
   "outputs": [],
   "source": [
    "df_parks.drop(['Park Code'], axis=1, inplace = True)"
   ]
  },
  {
   "cell_type": "code",
   "execution_count": 23,
   "metadata": {},
   "outputs": [
    {
     "data": {
      "text/html": [
       "<div>\n",
       "<style scoped>\n",
       "    .dataframe tbody tr th:only-of-type {\n",
       "        vertical-align: middle;\n",
       "    }\n",
       "\n",
       "    .dataframe tbody tr th {\n",
       "        vertical-align: top;\n",
       "    }\n",
       "\n",
       "    .dataframe thead th {\n",
       "        text-align: right;\n",
       "    }\n",
       "</style>\n",
       "<table border=\"1\" class=\"dataframe\">\n",
       "  <thead>\n",
       "    <tr style=\"text-align: right;\">\n",
       "      <th></th>\n",
       "      <th>ALABAMA</th>\n",
       "      <th>Alabama</th>\n",
       "      <th>AL</th>\n",
       "    </tr>\n",
       "  </thead>\n",
       "  <tbody>\n",
       "    <tr>\n",
       "      <td>0</td>\n",
       "      <td>ALASKA</td>\n",
       "      <td>Alaska</td>\n",
       "      <td>AK</td>\n",
       "    </tr>\n",
       "    <tr>\n",
       "      <td>1</td>\n",
       "      <td>ARIZONA</td>\n",
       "      <td>Arizona</td>\n",
       "      <td>AZ</td>\n",
       "    </tr>\n",
       "    <tr>\n",
       "      <td>2</td>\n",
       "      <td>ARKANSAS</td>\n",
       "      <td>Arkansas</td>\n",
       "      <td>AR</td>\n",
       "    </tr>\n",
       "    <tr>\n",
       "      <td>3</td>\n",
       "      <td>CALIFORNIA</td>\n",
       "      <td>California</td>\n",
       "      <td>CA</td>\n",
       "    </tr>\n",
       "    <tr>\n",
       "      <td>4</td>\n",
       "      <td>COLORADO</td>\n",
       "      <td>Colorado</td>\n",
       "      <td>CO</td>\n",
       "    </tr>\n",
       "  </tbody>\n",
       "</table>\n",
       "</div>"
      ],
      "text/plain": [
       "      ALABAMA     Alabama  AL\n",
       "0      ALASKA      Alaska  AK\n",
       "1     ARIZONA     Arizona  AZ\n",
       "2    ARKANSAS    Arkansas  AR\n",
       "3  CALIFORNIA  California  CA\n",
       "4    COLORADO    Colorado  CO"
      ]
     },
     "execution_count": 23,
     "metadata": {},
     "output_type": "execute_result"
    }
   ],
   "source": [
    "df_states = pd.read_csv('us_states.csv')\n",
    "df_states.head()"
   ]
  },
  {
   "cell_type": "code",
   "execution_count": 35,
   "metadata": {
    "scrolled": true
   },
   "outputs": [
    {
     "data": {
      "text/html": [
       "<div>\n",
       "<style scoped>\n",
       "    .dataframe tbody tr th:only-of-type {\n",
       "        vertical-align: middle;\n",
       "    }\n",
       "\n",
       "    .dataframe tbody tr th {\n",
       "        vertical-align: top;\n",
       "    }\n",
       "\n",
       "    .dataframe thead th {\n",
       "        text-align: right;\n",
       "    }\n",
       "</style>\n",
       "<table border=\"1\" class=\"dataframe\">\n",
       "  <thead>\n",
       "    <tr style=\"text-align: right;\">\n",
       "      <th></th>\n",
       "      <th>State</th>\n",
       "      <th>Park Name</th>\n",
       "      <th>Acres</th>\n",
       "      <th>Latitude</th>\n",
       "      <th>Longitude</th>\n",
       "      <th>size</th>\n",
       "    </tr>\n",
       "  </thead>\n",
       "  <tbody>\n",
       "    <tr>\n",
       "      <td>0</td>\n",
       "      <td>AK</td>\n",
       "      <td>Denali National Park and Preserve</td>\n",
       "      <td>3372402</td>\n",
       "      <td>63.33</td>\n",
       "      <td>-150.50</td>\n",
       "      <td>1</td>\n",
       "    </tr>\n",
       "    <tr>\n",
       "      <td>1</td>\n",
       "      <td>AK</td>\n",
       "      <td>Gates Of The Arctic National Park and Preserve</td>\n",
       "      <td>7523898</td>\n",
       "      <td>67.78</td>\n",
       "      <td>-153.30</td>\n",
       "      <td>1</td>\n",
       "    </tr>\n",
       "    <tr>\n",
       "      <td>2</td>\n",
       "      <td>AK</td>\n",
       "      <td>Glacier Bay National Park and Preserve</td>\n",
       "      <td>3224840</td>\n",
       "      <td>58.50</td>\n",
       "      <td>-137.00</td>\n",
       "      <td>1</td>\n",
       "    </tr>\n",
       "    <tr>\n",
       "      <td>3</td>\n",
       "      <td>AK</td>\n",
       "      <td>Katmai National Park and Preserve</td>\n",
       "      <td>3674530</td>\n",
       "      <td>58.50</td>\n",
       "      <td>-155.00</td>\n",
       "      <td>1</td>\n",
       "    </tr>\n",
       "    <tr>\n",
       "      <td>4</td>\n",
       "      <td>AK</td>\n",
       "      <td>Kenai Fjords National Park</td>\n",
       "      <td>669983</td>\n",
       "      <td>59.92</td>\n",
       "      <td>-149.65</td>\n",
       "      <td>1</td>\n",
       "    </tr>\n",
       "    <tr>\n",
       "      <td>5</td>\n",
       "      <td>AK</td>\n",
       "      <td>Kobuk Valley National Park</td>\n",
       "      <td>1750717</td>\n",
       "      <td>67.55</td>\n",
       "      <td>-159.28</td>\n",
       "      <td>1</td>\n",
       "    </tr>\n",
       "    <tr>\n",
       "      <td>6</td>\n",
       "      <td>AK</td>\n",
       "      <td>Lake Clark National Park and Preserve</td>\n",
       "      <td>2619733</td>\n",
       "      <td>60.97</td>\n",
       "      <td>-153.42</td>\n",
       "      <td>1</td>\n",
       "    </tr>\n",
       "    <tr>\n",
       "      <td>7</td>\n",
       "      <td>AK</td>\n",
       "      <td>Wrangell - St Elias National Park and Preserve</td>\n",
       "      <td>8323148</td>\n",
       "      <td>61.00</td>\n",
       "      <td>-142.00</td>\n",
       "      <td>1</td>\n",
       "    </tr>\n",
       "    <tr>\n",
       "      <td>8</td>\n",
       "      <td>AR</td>\n",
       "      <td>Hot Springs National Park</td>\n",
       "      <td>5550</td>\n",
       "      <td>34.51</td>\n",
       "      <td>-93.05</td>\n",
       "      <td>1</td>\n",
       "    </tr>\n",
       "    <tr>\n",
       "      <td>9</td>\n",
       "      <td>AZ</td>\n",
       "      <td>Grand Canyon National Park</td>\n",
       "      <td>1217403</td>\n",
       "      <td>36.06</td>\n",
       "      <td>-112.14</td>\n",
       "      <td>1</td>\n",
       "    </tr>\n",
       "    <tr>\n",
       "      <td>10</td>\n",
       "      <td>AZ</td>\n",
       "      <td>Petrified Forest National Park</td>\n",
       "      <td>93533</td>\n",
       "      <td>35.07</td>\n",
       "      <td>-109.78</td>\n",
       "      <td>1</td>\n",
       "    </tr>\n",
       "    <tr>\n",
       "      <td>11</td>\n",
       "      <td>AZ</td>\n",
       "      <td>Saguaro National Park</td>\n",
       "      <td>91440</td>\n",
       "      <td>32.25</td>\n",
       "      <td>-110.50</td>\n",
       "      <td>1</td>\n",
       "    </tr>\n",
       "    <tr>\n",
       "      <td>12</td>\n",
       "      <td>CA</td>\n",
       "      <td>Channel Islands National Park</td>\n",
       "      <td>249561</td>\n",
       "      <td>34.01</td>\n",
       "      <td>-119.42</td>\n",
       "      <td>1</td>\n",
       "    </tr>\n",
       "    <tr>\n",
       "      <td>13</td>\n",
       "      <td>CA</td>\n",
       "      <td>Joshua Tree National Park</td>\n",
       "      <td>789745</td>\n",
       "      <td>33.79</td>\n",
       "      <td>-115.90</td>\n",
       "      <td>1</td>\n",
       "    </tr>\n",
       "    <tr>\n",
       "      <td>14</td>\n",
       "      <td>CA</td>\n",
       "      <td>Lassen Volcanic National Park</td>\n",
       "      <td>106372</td>\n",
       "      <td>40.49</td>\n",
       "      <td>-121.51</td>\n",
       "      <td>1</td>\n",
       "    </tr>\n",
       "    <tr>\n",
       "      <td>15</td>\n",
       "      <td>CA</td>\n",
       "      <td>Pinnacles National Park</td>\n",
       "      <td>26606</td>\n",
       "      <td>36.48</td>\n",
       "      <td>-121.16</td>\n",
       "      <td>1</td>\n",
       "    </tr>\n",
       "    <tr>\n",
       "      <td>16</td>\n",
       "      <td>CA</td>\n",
       "      <td>Redwood National Park</td>\n",
       "      <td>112512</td>\n",
       "      <td>41.30</td>\n",
       "      <td>-124.00</td>\n",
       "      <td>1</td>\n",
       "    </tr>\n",
       "    <tr>\n",
       "      <td>17</td>\n",
       "      <td>CA</td>\n",
       "      <td>Sequoia and Kings Canyon National Parks</td>\n",
       "      <td>865952</td>\n",
       "      <td>36.43</td>\n",
       "      <td>-118.68</td>\n",
       "      <td>1</td>\n",
       "    </tr>\n",
       "    <tr>\n",
       "      <td>18</td>\n",
       "      <td>CA</td>\n",
       "      <td>Yosemite National Park</td>\n",
       "      <td>761266</td>\n",
       "      <td>37.83</td>\n",
       "      <td>-119.50</td>\n",
       "      <td>1</td>\n",
       "    </tr>\n",
       "    <tr>\n",
       "      <td>19</td>\n",
       "      <td>CA, NV</td>\n",
       "      <td>Death Valley National Park</td>\n",
       "      <td>4740912</td>\n",
       "      <td>36.24</td>\n",
       "      <td>-116.82</td>\n",
       "      <td>1</td>\n",
       "    </tr>\n",
       "    <tr>\n",
       "      <td>20</td>\n",
       "      <td>CO</td>\n",
       "      <td>Black Canyon of the Gunnison National Park</td>\n",
       "      <td>32950</td>\n",
       "      <td>38.57</td>\n",
       "      <td>-107.72</td>\n",
       "      <td>1</td>\n",
       "    </tr>\n",
       "    <tr>\n",
       "      <td>21</td>\n",
       "      <td>CO</td>\n",
       "      <td>Great Sand Dunes National Park and Preserve</td>\n",
       "      <td>42984</td>\n",
       "      <td>37.73</td>\n",
       "      <td>-105.51</td>\n",
       "      <td>1</td>\n",
       "    </tr>\n",
       "    <tr>\n",
       "      <td>22</td>\n",
       "      <td>CO</td>\n",
       "      <td>Mesa Verde National Park</td>\n",
       "      <td>52122</td>\n",
       "      <td>37.18</td>\n",
       "      <td>-108.49</td>\n",
       "      <td>1</td>\n",
       "    </tr>\n",
       "    <tr>\n",
       "      <td>23</td>\n",
       "      <td>CO</td>\n",
       "      <td>Rocky Mountain National Park</td>\n",
       "      <td>265828</td>\n",
       "      <td>40.40</td>\n",
       "      <td>-105.58</td>\n",
       "      <td>1</td>\n",
       "    </tr>\n",
       "    <tr>\n",
       "      <td>24</td>\n",
       "      <td>FL</td>\n",
       "      <td>Biscayne National Park</td>\n",
       "      <td>172924</td>\n",
       "      <td>25.65</td>\n",
       "      <td>-80.08</td>\n",
       "      <td>1</td>\n",
       "    </tr>\n",
       "    <tr>\n",
       "      <td>25</td>\n",
       "      <td>FL</td>\n",
       "      <td>Dry Tortugas National Park</td>\n",
       "      <td>64701</td>\n",
       "      <td>24.63</td>\n",
       "      <td>-82.87</td>\n",
       "      <td>1</td>\n",
       "    </tr>\n",
       "    <tr>\n",
       "      <td>26</td>\n",
       "      <td>FL</td>\n",
       "      <td>Everglades National Park</td>\n",
       "      <td>1508538</td>\n",
       "      <td>25.32</td>\n",
       "      <td>-80.93</td>\n",
       "      <td>1</td>\n",
       "    </tr>\n",
       "    <tr>\n",
       "      <td>27</td>\n",
       "      <td>HI</td>\n",
       "      <td>Haleakala National Park</td>\n",
       "      <td>29094</td>\n",
       "      <td>20.72</td>\n",
       "      <td>-156.17</td>\n",
       "      <td>1</td>\n",
       "    </tr>\n",
       "    <tr>\n",
       "      <td>28</td>\n",
       "      <td>HI</td>\n",
       "      <td>Hawaii Volcanoes National Park</td>\n",
       "      <td>323431</td>\n",
       "      <td>19.38</td>\n",
       "      <td>-155.20</td>\n",
       "      <td>1</td>\n",
       "    </tr>\n",
       "    <tr>\n",
       "      <td>29</td>\n",
       "      <td>KY</td>\n",
       "      <td>Mammoth Cave National Park</td>\n",
       "      <td>52830</td>\n",
       "      <td>37.18</td>\n",
       "      <td>-86.10</td>\n",
       "      <td>1</td>\n",
       "    </tr>\n",
       "    <tr>\n",
       "      <td>30</td>\n",
       "      <td>ME</td>\n",
       "      <td>Acadia National Park</td>\n",
       "      <td>47390</td>\n",
       "      <td>44.35</td>\n",
       "      <td>-68.21</td>\n",
       "      <td>1</td>\n",
       "    </tr>\n",
       "    <tr>\n",
       "      <td>31</td>\n",
       "      <td>MI</td>\n",
       "      <td>Isle Royale National Park</td>\n",
       "      <td>571790</td>\n",
       "      <td>48.10</td>\n",
       "      <td>-88.55</td>\n",
       "      <td>1</td>\n",
       "    </tr>\n",
       "    <tr>\n",
       "      <td>32</td>\n",
       "      <td>MN</td>\n",
       "      <td>Voyageurs National Park</td>\n",
       "      <td>218200</td>\n",
       "      <td>48.50</td>\n",
       "      <td>-92.88</td>\n",
       "      <td>1</td>\n",
       "    </tr>\n",
       "    <tr>\n",
       "      <td>33</td>\n",
       "      <td>MT</td>\n",
       "      <td>Glacier National Park</td>\n",
       "      <td>1013572</td>\n",
       "      <td>48.80</td>\n",
       "      <td>-114.00</td>\n",
       "      <td>1</td>\n",
       "    </tr>\n",
       "    <tr>\n",
       "      <td>34</td>\n",
       "      <td>ND</td>\n",
       "      <td>Theodore Roosevelt National Park</td>\n",
       "      <td>70447</td>\n",
       "      <td>46.97</td>\n",
       "      <td>-103.45</td>\n",
       "      <td>1</td>\n",
       "    </tr>\n",
       "    <tr>\n",
       "      <td>35</td>\n",
       "      <td>NM</td>\n",
       "      <td>Carlsbad Caverns National Park</td>\n",
       "      <td>46766</td>\n",
       "      <td>32.17</td>\n",
       "      <td>-104.44</td>\n",
       "      <td>1</td>\n",
       "    </tr>\n",
       "    <tr>\n",
       "      <td>36</td>\n",
       "      <td>NV</td>\n",
       "      <td>Great Basin National Park</td>\n",
       "      <td>77180</td>\n",
       "      <td>38.98</td>\n",
       "      <td>-114.30</td>\n",
       "      <td>1</td>\n",
       "    </tr>\n",
       "    <tr>\n",
       "      <td>37</td>\n",
       "      <td>OH</td>\n",
       "      <td>Cuyahoga Valley National Park</td>\n",
       "      <td>32950</td>\n",
       "      <td>41.24</td>\n",
       "      <td>-81.55</td>\n",
       "      <td>1</td>\n",
       "    </tr>\n",
       "    <tr>\n",
       "      <td>38</td>\n",
       "      <td>OR</td>\n",
       "      <td>Crater Lake National Park</td>\n",
       "      <td>183224</td>\n",
       "      <td>42.94</td>\n",
       "      <td>-122.10</td>\n",
       "      <td>1</td>\n",
       "    </tr>\n",
       "    <tr>\n",
       "      <td>39</td>\n",
       "      <td>SC</td>\n",
       "      <td>Congaree National Park</td>\n",
       "      <td>26546</td>\n",
       "      <td>33.78</td>\n",
       "      <td>-80.78</td>\n",
       "      <td>1</td>\n",
       "    </tr>\n",
       "    <tr>\n",
       "      <td>40</td>\n",
       "      <td>SD</td>\n",
       "      <td>Badlands National Park</td>\n",
       "      <td>242756</td>\n",
       "      <td>43.75</td>\n",
       "      <td>-102.50</td>\n",
       "      <td>1</td>\n",
       "    </tr>\n",
       "    <tr>\n",
       "      <td>41</td>\n",
       "      <td>SD</td>\n",
       "      <td>Wind Cave National Park</td>\n",
       "      <td>28295</td>\n",
       "      <td>43.57</td>\n",
       "      <td>-103.48</td>\n",
       "      <td>1</td>\n",
       "    </tr>\n",
       "    <tr>\n",
       "      <td>42</td>\n",
       "      <td>TN, NC</td>\n",
       "      <td>Great Smoky Mountains National Park</td>\n",
       "      <td>521490</td>\n",
       "      <td>35.68</td>\n",
       "      <td>-83.53</td>\n",
       "      <td>1</td>\n",
       "    </tr>\n",
       "    <tr>\n",
       "      <td>43</td>\n",
       "      <td>TX</td>\n",
       "      <td>Big Bend National Park</td>\n",
       "      <td>801163</td>\n",
       "      <td>29.25</td>\n",
       "      <td>-103.25</td>\n",
       "      <td>1</td>\n",
       "    </tr>\n",
       "    <tr>\n",
       "      <td>44</td>\n",
       "      <td>TX</td>\n",
       "      <td>Guadalupe Mountains National Park</td>\n",
       "      <td>86416</td>\n",
       "      <td>31.92</td>\n",
       "      <td>-104.87</td>\n",
       "      <td>1</td>\n",
       "    </tr>\n",
       "    <tr>\n",
       "      <td>45</td>\n",
       "      <td>UT</td>\n",
       "      <td>Arches National Park</td>\n",
       "      <td>76519</td>\n",
       "      <td>38.68</td>\n",
       "      <td>-109.57</td>\n",
       "      <td>1</td>\n",
       "    </tr>\n",
       "    <tr>\n",
       "      <td>46</td>\n",
       "      <td>UT</td>\n",
       "      <td>Bryce Canyon National Park</td>\n",
       "      <td>35835</td>\n",
       "      <td>37.57</td>\n",
       "      <td>-112.18</td>\n",
       "      <td>1</td>\n",
       "    </tr>\n",
       "    <tr>\n",
       "      <td>47</td>\n",
       "      <td>UT</td>\n",
       "      <td>Canyonlands National Park</td>\n",
       "      <td>337598</td>\n",
       "      <td>38.20</td>\n",
       "      <td>-109.93</td>\n",
       "      <td>1</td>\n",
       "    </tr>\n",
       "    <tr>\n",
       "      <td>48</td>\n",
       "      <td>UT</td>\n",
       "      <td>Capitol Reef National Park</td>\n",
       "      <td>241904</td>\n",
       "      <td>38.20</td>\n",
       "      <td>-111.17</td>\n",
       "      <td>1</td>\n",
       "    </tr>\n",
       "    <tr>\n",
       "      <td>49</td>\n",
       "      <td>UT</td>\n",
       "      <td>Zion National Park</td>\n",
       "      <td>146598</td>\n",
       "      <td>37.30</td>\n",
       "      <td>-113.05</td>\n",
       "      <td>1</td>\n",
       "    </tr>\n",
       "    <tr>\n",
       "      <td>50</td>\n",
       "      <td>VA</td>\n",
       "      <td>Shenandoah National Park</td>\n",
       "      <td>199045</td>\n",
       "      <td>38.53</td>\n",
       "      <td>-78.35</td>\n",
       "      <td>1</td>\n",
       "    </tr>\n",
       "    <tr>\n",
       "      <td>51</td>\n",
       "      <td>WA</td>\n",
       "      <td>Mount Rainier National Park</td>\n",
       "      <td>235625</td>\n",
       "      <td>46.85</td>\n",
       "      <td>-121.75</td>\n",
       "      <td>1</td>\n",
       "    </tr>\n",
       "    <tr>\n",
       "      <td>52</td>\n",
       "      <td>WA</td>\n",
       "      <td>North Cascades National Park</td>\n",
       "      <td>504781</td>\n",
       "      <td>48.70</td>\n",
       "      <td>-121.20</td>\n",
       "      <td>1</td>\n",
       "    </tr>\n",
       "    <tr>\n",
       "      <td>53</td>\n",
       "      <td>WA</td>\n",
       "      <td>Olympic National Park</td>\n",
       "      <td>922651</td>\n",
       "      <td>47.97</td>\n",
       "      <td>-123.50</td>\n",
       "      <td>1</td>\n",
       "    </tr>\n",
       "    <tr>\n",
       "      <td>54</td>\n",
       "      <td>WY</td>\n",
       "      <td>Grand Teton National Park</td>\n",
       "      <td>309995</td>\n",
       "      <td>43.73</td>\n",
       "      <td>-110.80</td>\n",
       "      <td>1</td>\n",
       "    </tr>\n",
       "    <tr>\n",
       "      <td>55</td>\n",
       "      <td>WY, MT, ID</td>\n",
       "      <td>Yellowstone National Park</td>\n",
       "      <td>2219791</td>\n",
       "      <td>44.60</td>\n",
       "      <td>-110.50</td>\n",
       "      <td>1</td>\n",
       "    </tr>\n",
       "  </tbody>\n",
       "</table>\n",
       "</div>"
      ],
      "text/plain": [
       "         State                                       Park Name    Acres  \\\n",
       "0           AK               Denali National Park and Preserve  3372402   \n",
       "1           AK  Gates Of The Arctic National Park and Preserve  7523898   \n",
       "2           AK          Glacier Bay National Park and Preserve  3224840   \n",
       "3           AK               Katmai National Park and Preserve  3674530   \n",
       "4           AK                      Kenai Fjords National Park   669983   \n",
       "5           AK                      Kobuk Valley National Park  1750717   \n",
       "6           AK           Lake Clark National Park and Preserve  2619733   \n",
       "7           AK  Wrangell - St Elias National Park and Preserve  8323148   \n",
       "8           AR                       Hot Springs National Park     5550   \n",
       "9           AZ                      Grand Canyon National Park  1217403   \n",
       "10          AZ                  Petrified Forest National Park    93533   \n",
       "11          AZ                           Saguaro National Park    91440   \n",
       "12          CA                   Channel Islands National Park   249561   \n",
       "13          CA                       Joshua Tree National Park   789745   \n",
       "14          CA                   Lassen Volcanic National Park   106372   \n",
       "15          CA                         Pinnacles National Park    26606   \n",
       "16          CA                           Redwood National Park   112512   \n",
       "17          CA         Sequoia and Kings Canyon National Parks   865952   \n",
       "18          CA                          Yosemite National Park   761266   \n",
       "19      CA, NV                      Death Valley National Park  4740912   \n",
       "20          CO      Black Canyon of the Gunnison National Park    32950   \n",
       "21          CO     Great Sand Dunes National Park and Preserve    42984   \n",
       "22          CO                        Mesa Verde National Park    52122   \n",
       "23          CO                    Rocky Mountain National Park   265828   \n",
       "24          FL                          Biscayne National Park   172924   \n",
       "25          FL                      Dry Tortugas National Park    64701   \n",
       "26          FL                        Everglades National Park  1508538   \n",
       "27          HI                         Haleakala National Park    29094   \n",
       "28          HI                  Hawaii Volcanoes National Park   323431   \n",
       "29          KY                      Mammoth Cave National Park    52830   \n",
       "30          ME                            Acadia National Park    47390   \n",
       "31          MI                       Isle Royale National Park   571790   \n",
       "32          MN                         Voyageurs National Park   218200   \n",
       "33          MT                           Glacier National Park  1013572   \n",
       "34          ND                Theodore Roosevelt National Park    70447   \n",
       "35          NM                  Carlsbad Caverns National Park    46766   \n",
       "36          NV                       Great Basin National Park    77180   \n",
       "37          OH                   Cuyahoga Valley National Park    32950   \n",
       "38          OR                       Crater Lake National Park   183224   \n",
       "39          SC                          Congaree National Park    26546   \n",
       "40          SD                          Badlands National Park   242756   \n",
       "41          SD                         Wind Cave National Park    28295   \n",
       "42      TN, NC             Great Smoky Mountains National Park   521490   \n",
       "43          TX                          Big Bend National Park   801163   \n",
       "44          TX               Guadalupe Mountains National Park    86416   \n",
       "45          UT                            Arches National Park    76519   \n",
       "46          UT                      Bryce Canyon National Park    35835   \n",
       "47          UT                       Canyonlands National Park   337598   \n",
       "48          UT                      Capitol Reef National Park   241904   \n",
       "49          UT                              Zion National Park   146598   \n",
       "50          VA                        Shenandoah National Park   199045   \n",
       "51          WA                     Mount Rainier National Park   235625   \n",
       "52          WA                    North Cascades National Park   504781   \n",
       "53          WA                           Olympic National Park   922651   \n",
       "54          WY                       Grand Teton National Park   309995   \n",
       "55  WY, MT, ID                       Yellowstone National Park  2219791   \n",
       "\n",
       "    Latitude  Longitude  size  \n",
       "0      63.33    -150.50     1  \n",
       "1      67.78    -153.30     1  \n",
       "2      58.50    -137.00     1  \n",
       "3      58.50    -155.00     1  \n",
       "4      59.92    -149.65     1  \n",
       "5      67.55    -159.28     1  \n",
       "6      60.97    -153.42     1  \n",
       "7      61.00    -142.00     1  \n",
       "8      34.51     -93.05     1  \n",
       "9      36.06    -112.14     1  \n",
       "10     35.07    -109.78     1  \n",
       "11     32.25    -110.50     1  \n",
       "12     34.01    -119.42     1  \n",
       "13     33.79    -115.90     1  \n",
       "14     40.49    -121.51     1  \n",
       "15     36.48    -121.16     1  \n",
       "16     41.30    -124.00     1  \n",
       "17     36.43    -118.68     1  \n",
       "18     37.83    -119.50     1  \n",
       "19     36.24    -116.82     1  \n",
       "20     38.57    -107.72     1  \n",
       "21     37.73    -105.51     1  \n",
       "22     37.18    -108.49     1  \n",
       "23     40.40    -105.58     1  \n",
       "24     25.65     -80.08     1  \n",
       "25     24.63     -82.87     1  \n",
       "26     25.32     -80.93     1  \n",
       "27     20.72    -156.17     1  \n",
       "28     19.38    -155.20     1  \n",
       "29     37.18     -86.10     1  \n",
       "30     44.35     -68.21     1  \n",
       "31     48.10     -88.55     1  \n",
       "32     48.50     -92.88     1  \n",
       "33     48.80    -114.00     1  \n",
       "34     46.97    -103.45     1  \n",
       "35     32.17    -104.44     1  \n",
       "36     38.98    -114.30     1  \n",
       "37     41.24     -81.55     1  \n",
       "38     42.94    -122.10     1  \n",
       "39     33.78     -80.78     1  \n",
       "40     43.75    -102.50     1  \n",
       "41     43.57    -103.48     1  \n",
       "42     35.68     -83.53     1  \n",
       "43     29.25    -103.25     1  \n",
       "44     31.92    -104.87     1  \n",
       "45     38.68    -109.57     1  \n",
       "46     37.57    -112.18     1  \n",
       "47     38.20    -109.93     1  \n",
       "48     38.20    -111.17     1  \n",
       "49     37.30    -113.05     1  \n",
       "50     38.53     -78.35     1  \n",
       "51     46.85    -121.75     1  \n",
       "52     48.70    -121.20     1  \n",
       "53     47.97    -123.50     1  \n",
       "54     43.73    -110.80     1  \n",
       "55     44.60    -110.50     1  "
      ]
     },
     "execution_count": 35,
     "metadata": {},
     "output_type": "execute_result"
    }
   ],
   "source": [
    "# counting number of parks per state and the park area\n",
    "num_parks = df_parks.groupby(['State','Park Name','Acres','Latitude', 'Longitude']).size()\n",
    "df_num_parks = num_parks.to_frame(name ='size').reset_index()\n",
    "df_num_parks"
   ]
  },
  {
   "cell_type": "code",
   "execution_count": 36,
   "metadata": {},
   "outputs": [
    {
     "data": {
      "image/png": "[encoded data removed]",
      "text/plain": [
       "<Figure size 576x432 with 1 Axes>"
      ]
     },
     "metadata": {
      "needs_background": "light"
     },
     "output_type": "display_data"
    }
   ],
   "source": [
    "# plot Number of National Parks per State\n",
    "fig = plt.figure(figsize=(8,6))\n",
    "df_num_parks['State'].value_counts().sort_values().plot.barh(color='midnightblue')\n",
    "plt.title('State Ranked By Number of National Parks')\n",
    "plt.xlabel('Number of Parks per State')\n",
    "plt.ylabel('State')\n",
    "plt.show()"
   ]
  },
  {
   "cell_type": "code",
   "execution_count": 26,
   "metadata": {
    "scrolled": true
   },
   "outputs": [
    {
     "data": {
      "application/vnd.plotly.v1+json": {
       "config": {
        "plotlyServerURL": "https://plot.ly"
       },
       "data": [
        {
         "autocolorscale": false,
         "colorbar": {
          "title": {
           "text": "Acres"
          }
         },
         "colorscale": [
          [
           0,
           "rgb(255,245,240)"
          ],
          [
           0.125,
           "rgb(254,224,210)"
          ],
          [
           0.25,
           "rgb(252,187,161)"
          ],
          [
           0.375,
           "rgb(252,146,114)"
          ],
          [
           0.5,
           "rgb(251,106,74)"
          ],
          [
           0.625,
           "rgb(239,59,44)"
          ],
          [
           0.75,
           "rgb(203,24,29)"
          ],
          [
           0.875,
           "rgb(165,15,21)"
          ],
          [
           1,
           "rgb(103,0,13)"
          ]
         ],
         "locationmode": "USA-states",
         "locations": [
          "AK",
          "AK",
          "AK",
          "AK",
          "AK",
          "AK",
          "AK",
          "AK",
          "AR",
          "AZ",
          "AZ",
          "AZ",
          "CA",
          "CA",
          "CA",
          "CA",
          "CA",
          "CA",
          "CA",
          "CA, NV",
          "CO",
          "CO",
          "CO",
          "CO",
          "FL",
          "FL",
          "FL",
          "HI",
          "HI",
          "KY",
          "ME",
          "MI",
          "MN",
          "MT",
          "ND",
          "NM",
          "NV",
          "OH",
          "OR",
          "SC",
          "SD",
          "SD",
          "TN, NC",
          "TX",
          "TX",
          "UT",
          "UT",
          "UT",
          "UT",
          "UT",
          "VA",
          "WA",
          "WA",
          "WA",
          "WY",
          "WY, MT, ID"
         ],
         "marker": {
          "line": {
           "color": "white"
          }
         },
         "text": [
          "Denali National Park and Preserve",
          "Gates Of The Arctic National Park and Preserve",
          "Glacier Bay National Park and Preserve",
          "Katmai National Park and Preserve",
          "Kenai Fjords National Park",
          "Kobuk Valley National Park",
          "Lake Clark National Park and Preserve",
          "Wrangell - St Elias National Park and Preserve",
          "Hot Springs National Park",
          "Grand Canyon National Park",
          "Petrified Forest National Park",
          "Saguaro National Park",
          "Channel Islands National Park",
          "Joshua Tree National Park",
          "Lassen Volcanic National Park",
          "Pinnacles National Park",
          "Redwood National Park",
          "Sequoia and Kings Canyon National Parks",
          "Yosemite National Park",
          "Death Valley National Park",
          "Black Canyon of the Gunnison National Park",
          "Great Sand Dunes National Park and Preserve",
          "Mesa Verde National Park",
          "Rocky Mountain National Park",
          "Biscayne National Park",
          "Dry Tortugas National Park",
          "Everglades National Park",
          "Haleakala National Park",
          "Hawaii Volcanoes National Park",
          "Mammoth Cave National Park",
          "Acadia National Park",
          "Isle Royale National Park",
          "Voyageurs National Park",
          "Glacier National Park",
          "Theodore Roosevelt National Park",
          "Carlsbad Caverns National Park",
          "Great Basin National Park",
          "Cuyahoga Valley National Park",
          "Crater Lake National Park",
          "Congaree National Park",
          "Badlands National Park",
          "Wind Cave National Park",
          "Great Smoky Mountains National Park",
          "Big Bend National Park",
          "Guadalupe Mountains National Park",
          "Arches National Park",
          "Bryce Canyon National Park",
          "Canyonlands National Park",
          "Capitol Reef National Park",
          "Zion National Park",
          "Shenandoah National Park",
          "Mount Rainier National Park",
          "North Cascades National Park",
          "Olympic National Park",
          "Grand Teton National Park",
          "Yellowstone National Park"
         ],
         "type": "choropleth",
         "z": [
          3372402,
          7523898,
          3224840,
          3674530,
          669983,
          1750717,
          2619733,
          8323148,
          5550,
          1217403,
          93533,
          91440,
          249561,
          789745,
          106372,
          26606,
          112512,
          865952,
          761266,
          4740912,
          32950,
          42984,
          52122,
          265828,
          172924,
          64701,
          1508538,
          29094,
          323431,
          52830,
          47390,
          571790,
          218200,
          1013572,
          70447,
          46766,
          77180,
          32950,
          183224,
          26546,
          242756,
          28295,
          521490,
          801163,
          86416,
          76519,
          35835,
          337598,
          241904,
          146598,
          199045,
          235625,
          504781,
          922651,
          309995,
          2219791
         ]
        }
       ],
       "layout": {
        "geo": {
         "lakecolor": "rgb(255, 255, 255)",
         "projection": {
          "type": "albers usa"
         },
         "scope": "usa",
         "showlakes": true
        },
        "template": {
         "data": {
          "bar": [
           {
            "error_x": {
             "color": "#2a3f5f"
            },
            "error_y": {
             "color": "#2a3f5f"
            },
            "marker": {
             "line": {
              "color": "#E5ECF6",
              "width": 0.5
             }
            },
            "type": "bar"
           }
          ],
          "barpolar": [
           {
            "marker": {
             "line": {
              "color": "#E5ECF6",
              "width": 0.5
             }
            },
            "type": "barpolar"
           }
          ],
          "carpet": [
           {
            "aaxis": {
             "endlinecolor": "#2a3f5f",
             "gridcolor": "white",
             "linecolor": "white",
             "minorgridcolor": "white",
             "startlinecolor": "#2a3f5f"
            },
            "baxis": {
             "endlinecolor": "#2a3f5f",
             "gridcolor": "white",
             "linecolor": "white",
             "minorgridcolor": "white",
             "startlinecolor": "#2a3f5f"
            },
            "type": "carpet"
           }
          ],
          "choropleth": [
           {
            "colorbar": {
             "outlinewidth": 0,
             "ticks": ""
            },
            "type": "choropleth"
           }
          ],
          "contour": [
           {
            "colorbar": {
             "outlinewidth": 0,
             "ticks": ""
            },
            "colorscale": [
             [
              0,
              "#0d0887"
             ],
             [
              0.1111111111111111,
              "#46039f"
             ],
             [
              0.2222222222222222,
              "#7201a8"
             ],
             [
              0.3333333333333333,
              "#9c179e"
             ],
             [
              0.4444444444444444,
              "#bd3786"
             ],
             [
              0.5555555555555556,
              "#d8576b"
             ],
             [
              0.6666666666666666,
              "#ed7953"
             ],
             [
              0.7777777777777778,
              "#fb9f3a"
             ],
             [
              0.8888888888888888,
              "#fdca26"
             ],
             [
              1,
              "#f0f921"
             ]
            ],
            "type": "contour"
           }
          ],
          "contourcarpet": [
           {
            "colorbar": {
             "outlinewidth": 0,
             "ticks": ""
            },
            "type": "contourcarpet"
           }
          ],
          "heatmap": [
           {
            "colorbar": {
             "outlinewidth": 0,
             "ticks": ""
            },
            "colorscale": [
             [
              0,
              "#0d0887"
             ],
             [
              0.1111111111111111,
              "#46039f"
             ],
             [
              0.2222222222222222,
              "#7201a8"
             ],
             [
              0.3333333333333333,
              "#9c179e"
             ],
             [
              0.4444444444444444,
              "#bd3786"
             ],
             [
              0.5555555555555556,
              "#d8576b"
             ],
             [
              0.6666666666666666,
              "#ed7953"
             ],
             [
              0.7777777777777778,
              "#fb9f3a"
             ],
             [
              0.8888888888888888,
              "#fdca26"
             ],
             [
              1,
              "#f0f921"
             ]
            ],
            "type": "heatmap"
           }
          ],
          "heatmapgl": [
           {
            "colorbar": {
             "outlinewidth": 0,
             "ticks": ""
            },
            "colorscale": [
             [
              0,
              "#0d0887"
             ],
             [
              0.1111111111111111,
              "#46039f"
             ],
             [
              0.2222222222222222,
              "#7201a8"
             ],
             [
              0.3333333333333333,
              "#9c179e"
             ],
             [
              0.4444444444444444,
              "#bd3786"
             ],
             [
              0.5555555555555556,
              "#d8576b"
             ],
             [
              0.6666666666666666,
              "#ed7953"
             ],
             [
              0.7777777777777778,
              "#fb9f3a"
             ],
             [
              0.8888888888888888,
              "#fdca26"
             ],
             [
              1,
              "#f0f921"
             ]
            ],
            "type": "heatmapgl"
           }
          ],
          "histogram": [
           {
            "marker": {
             "colorbar": {
              "outlinewidth": 0,
              "ticks": ""
             }
            },
            "type": "histogram"
           }
          ],
          "histogram2d": [
           {
            "colorbar": {
             "outlinewidth": 0,
             "ticks": ""
            },
            "colorscale": [
             [
              0,
              "#0d0887"
             ],
             [
              0.1111111111111111,
              "#46039f"
             ],
             [
              0.2222222222222222,
              "#7201a8"
             ],
             [
              0.3333333333333333,
              "#9c179e"
             ],
             [
              0.4444444444444444,
              "#bd3786"
             ],
             [
              0.5555555555555556,
              "#d8576b"
             ],
             [
              0.6666666666666666,
              "#ed7953"
             ],
             [
              0.7777777777777778,
              "#fb9f3a"
             ],
             [
              0.8888888888888888,
              "#fdca26"
             ],
             [
              1,
              "#f0f921"
             ]
            ],
            "type": "histogram2d"
           }
          ],
          "histogram2dcontour": [
           {
            "colorbar": {
             "outlinewidth": 0,
             "ticks": ""
            },
            "colorscale": [
             [
              0,
              "#0d0887"
             ],
             [
              0.1111111111111111,
              "#46039f"
             ],
             [
              0.2222222222222222,
              "#7201a8"
             ],
             [
              0.3333333333333333,
              "#9c179e"
             ],
             [
              0.4444444444444444,
              "#bd3786"
             ],
             [
              0.5555555555555556,
              "#d8576b"
             ],
             [
              0.6666666666666666,
              "#ed7953"
             ],
             [
              0.7777777777777778,
              "#fb9f3a"
             ],
             [
              0.8888888888888888,
              "#fdca26"
             ],
             [
              1,
              "#f0f921"
             ]
            ],
            "type": "histogram2dcontour"
           }
          ],
          "mesh3d": [
           {
            "colorbar": {
             "outlinewidth": 0,
             "ticks": ""
            },
            "type": "mesh3d"
           }
          ],
          "parcoords": [
           {
            "line": {
             "colorbar": {
              "outlinewidth": 0,
              "ticks": ""
             }
            },
            "type": "parcoords"
           }
          ],
          "pie": [
           {
            "automargin": true,
            "type": "pie"
           }
          ],
          "scatter": [
           {
            "marker": {
             "colorbar": {
              "outlinewidth": 0,
              "ticks": ""
             }
            },
            "type": "scatter"
           }
          ],
          "scatter3d": [
           {
            "line": {
             "colorbar": {
              "outlinewidth": 0,
              "ticks": ""
             }
            },
            "marker": {
             "colorbar": {
              "outlinewidth": 0,
              "ticks": ""
             }
            },
            "type": "scatter3d"
           }
          ],
          "scattercarpet": [
           {
            "marker": {
             "colorbar": {
              "outlinewidth": 0,
              "ticks": ""
             }
            },
            "type": "scattercarpet"
           }
          ],
          "scattergeo": [
           {
            "marker": {
             "colorbar": {
              "outlinewidth": 0,
              "ticks": ""
             }
            },
            "type": "scattergeo"
           }
          ],
          "scattergl": [
           {
            "marker": {
             "colorbar": {
              "outlinewidth": 0,
              "ticks": ""
             }
            },
            "type": "scattergl"
           }
          ],
          "scattermapbox": [
           {
            "marker": {
             "colorbar": {
              "outlinewidth": 0,
              "ticks": ""
             }
            },
            "type": "scattermapbox"
           }
          ],
          "scatterpolar": [
           {
            "marker": {
             "colorbar": {
              "outlinewidth": 0,
              "ticks": ""
             }
            },
            "type": "scatterpolar"
           }
          ],
          "scatterpolargl": [
           {
            "marker": {
             "colorbar": {
              "outlinewidth": 0,
              "ticks": ""
             }
            },
            "type": "scatterpolargl"
           }
          ],
          "scatterternary": [
           {
            "marker": {
             "colorbar": {
              "outlinewidth": 0,
              "ticks": ""
             }
            },
            "type": "scatterternary"
           }
          ],
          "surface": [
           {
            "colorbar": {
             "outlinewidth": 0,
             "ticks": ""
            },
            "colorscale": [
             [
              0,
              "#0d0887"
             ],
             [
              0.1111111111111111,
              "#46039f"
             ],
             [
              0.2222222222222222,
              "#7201a8"
             ],
             [
              0.3333333333333333,
              "#9c179e"
             ],
             [
              0.4444444444444444,
              "#bd3786"
             ],
             [
              0.5555555555555556,
              "#d8576b"
             ],
             [
              0.6666666666666666,
              "#ed7953"
             ],
             [
              0.7777777777777778,
              "#fb9f3a"
             ],
             [
              0.8888888888888888,
              "#fdca26"
             ],
             [
              1,
              "#f0f921"
             ]
            ],
            "type": "surface"
           }
          ],
          "table": [
           {
            "cells": {
             "fill": {
              "color": "#EBF0F8"
             },
             "line": {
              "color": "white"
             }
            },
            "header": {
             "fill": {
              "color": "#C8D4E3"
             },
             "line": {
              "color": "white"
             }
            },
            "type": "table"
           }
          ]
         },
         "layout": {
          "annotationdefaults": {
           "arrowcolor": "#2a3f5f",
           "arrowhead": 0,
           "arrowwidth": 1
          },
          "coloraxis": {
           "colorbar": {
            "outlinewidth": 0,
            "ticks": ""
           }
          },
          "colorscale": {
           "diverging": [
            [
             0,
             "#8e0152"
            ],
            [
             0.1,
             "#c51b7d"
            ],
            [
             0.2,
             "#de77ae"
            ],
            [
             0.3,
             "#f1b6da"
            ],
            [
             0.4,
             "#fde0ef"
            ],
            [
             0.5,
             "#f7f7f7"
            ],
            [
             0.6,
             "#e6f5d0"
            ],
            [
             0.7,
             "#b8e186"
            ],
            [
             0.8,
             "#7fbc41"
            ],
            [
             0.9,
             "#4d9221"
            ],
            [
             1,
             "#276419"
            ]
           ],
           "sequential": [
            [
             0,
             "#0d0887"
            ],
            [
             0.1111111111111111,
             "#46039f"
            ],
            [
             0.2222222222222222,
             "#7201a8"
            ],
            [
             0.3333333333333333,
             "#9c179e"
            ],
            [
             0.4444444444444444,
             "#bd3786"
            ],
            [
             0.5555555555555556,
             "#d8576b"
            ],
            [
             0.6666666666666666,
             "#ed7953"
            ],
            [
             0.7777777777777778,
             "#fb9f3a"
            ],
            [
             0.8888888888888888,
             "#fdca26"
            ],
            [
             1,
             "#f0f921"
            ]
           ],
           "sequentialminus": [
            [
             0,
             "#0d0887"
            ],
            [
             0.1111111111111111,
             "#46039f"
            ],
            [
             0.2222222222222222,
             "#7201a8"
            ],
            [
             0.3333333333333333,
             "#9c179e"
            ],
            [
             0.4444444444444444,
             "#bd3786"
            ],
            [
             0.5555555555555556,
             "#d8576b"
            ],
            [
             0.6666666666666666,
             "#ed7953"
            ],
            [
             0.7777777777777778,
             "#fb9f3a"
            ],
            [
             0.8888888888888888,
             "#fdca26"
            ],
            [
             1,
             "#f0f921"
            ]
           ]
          },
          "colorway": [
           "#636efa",
           "#EF553B",
           "#00cc96",
           "#ab63fa",
           "#FFA15A",
           "#19d3f3",
           "#FF6692",
           "#B6E880",
           "#FF97FF",
           "#FECB52"
          ],
          "font": {
           "color": "#2a3f5f"
          },
          "geo": {
           "bgcolor": "white",
           "lakecolor": "white",
           "landcolor": "#E5ECF6",
           "showlakes": true,
           "showland": true,
           "subunitcolor": "white"
          },
          "hoverlabel": {
           "align": "left"
          },
          "hovermode": "closest",
          "mapbox": {
           "style": "light"
          },
          "paper_bgcolor": "white",
          "plot_bgcolor": "#E5ECF6",
          "polar": {
           "angularaxis": {
            "gridcolor": "white",
            "linecolor": "white",
            "ticks": ""
           },
           "bgcolor": "#E5ECF6",
           "radialaxis": {
            "gridcolor": "white",
            "linecolor": "white",
            "ticks": ""
           }
          },
          "scene": {
           "xaxis": {
            "backgroundcolor": "#E5ECF6",
            "gridcolor": "white",
            "gridwidth": 2,
            "linecolor": "white",
            "showbackground": true,
            "ticks": "",
            "zerolinecolor": "white"
           },
           "yaxis": {
            "backgroundcolor": "#E5ECF6",
            "gridcolor": "white",
            "gridwidth": 2,
            "linecolor": "white",
            "showbackground": true,
            "ticks": "",
            "zerolinecolor": "white"
           },
           "zaxis": {
            "backgroundcolor": "#E5ECF6",
            "gridcolor": "white",
            "gridwidth": 2,
            "linecolor": "white",
            "showbackground": true,
            "ticks": "",
            "zerolinecolor": "white"
           }
          },
          "shapedefaults": {
           "line": {
            "color": "#2a3f5f"
           }
          },
          "ternary": {
           "aaxis": {
            "gridcolor": "white",
            "linecolor": "white",
            "ticks": ""
           },
           "baxis": {
            "gridcolor": "white",
            "linecolor": "white",
            "ticks": ""
           },
           "bgcolor": "#E5ECF6",
           "caxis": {
            "gridcolor": "white",
            "linecolor": "white",
            "ticks": ""
           }
          },
          "title": {
           "x": 0.05
          },
          "xaxis": {
           "automargin": true,
           "gridcolor": "white",
           "linecolor": "white",
           "ticks": "",
           "title": {
            "standoff": 15
           },
           "zerolinecolor": "white",
           "zerolinewidth": 2
          },
          "yaxis": {
           "automargin": true,
           "gridcolor": "white",
           "linecolor": "white",
           "ticks": "",
           "title": {
            "standoff": 15
           },
           "zerolinecolor": "white",
           "zerolinewidth": 2
          }
         }
        },
        "title": {
         "text": "US National Parks"
        }
       }
      },
      "text/html": [
       "<div>\n",
       "        \n",
       "        \n",
       "            <div id=\"1fb20e7d-1851-431d-a4d3-6366472411ea\" class=\"plotly-graph-div\" style=\"height:525px; width:100%;\"></div>\n",
       "            <script type=\"text/javascript\">\n",
       "                require([\"plotly\"], function(Plotly) {\n",
       "                    window.PLOTLYENV=window.PLOTLYENV || {};\n",
       "                    \n",
       "                if (document.getElementById(\"1fb20e7d-1851-431d-a4d3-6366472411ea\")) {\n",
       "                    Plotly.newPlot(\n",
       "                        '1fb20e7d-1851-431d-a4d3-6366472411ea',\n",
       "                        [{\"autocolorscale\": false, \"colorbar\": {\"title\": {\"text\": \"Acres\"}}, \"colorscale\": [[0.0, \"rgb(255,245,240)\"], [0.125, \"rgb(254,224,210)\"], [0.25, \"rgb(252,187,161)\"], [0.375, \"rgb(252,146,114)\"], [0.5, \"rgb(251,106,74)\"], [0.625, \"rgb(239,59,44)\"], [0.75, \"rgb(203,24,29)\"], [0.875, \"rgb(165,15,21)\"], [1.0, \"rgb(103,0,13)\"]], \"locationmode\": \"USA-states\", \"locations\": [\"AK\", \"AK\", \"AK\", \"AK\", \"AK\", \"AK\", \"AK\", \"AK\", \"AR\", \"AZ\", \"AZ\", \"AZ\", \"CA\", \"CA\", \"CA\", \"CA\", \"CA\", \"CA\", \"CA\", \"CA, NV\", \"CO\", \"CO\", \"CO\", \"CO\", \"FL\", \"FL\", \"FL\", \"HI\", \"HI\", \"KY\", \"ME\", \"MI\", \"MN\", \"MT\", \"ND\", \"NM\", \"NV\", \"OH\", \"OR\", \"SC\", \"SD\", \"SD\", \"TN, NC\", \"TX\", \"TX\", \"UT\", \"UT\", \"UT\", \"UT\", \"UT\", \"VA\", \"WA\", \"WA\", \"WA\", \"WY\", \"WY, MT, ID\"], \"marker\": {\"line\": {\"color\": \"white\"}}, \"text\": [\"Denali National Park and Preserve\", \"Gates Of The Arctic National Park and Preserve\", \"Glacier Bay National Park and Preserve\", \"Katmai National Park and Preserve\", \"Kenai Fjords National Park\", \"Kobuk Valley National Park\", \"Lake Clark National Park and Preserve\", \"Wrangell - St Elias National Park and Preserve\", \"Hot Springs National Park\", \"Grand Canyon National Park\", \"Petrified Forest National Park\", \"Saguaro National Park\", \"Channel Islands National Park\", \"Joshua Tree National Park\", \"Lassen Volcanic National Park\", \"Pinnacles National Park\", \"Redwood National Park\", \"Sequoia and Kings Canyon National Parks\", \"Yosemite National Park\", \"Death Valley National Park\", \"Black Canyon of the Gunnison National Park\", \"Great Sand Dunes National Park and Preserve\", \"Mesa Verde National Park\", \"Rocky Mountain National Park\", \"Biscayne National Park\", \"Dry Tortugas National Park\", \"Everglades National Park\", \"Haleakala National Park\", \"Hawaii Volcanoes National Park\", \"Mammoth Cave National Park\", \"Acadia National Park\", \"Isle Royale National Park\", \"Voyageurs National Park\", \"Glacier National Park\", \"Theodore Roosevelt National Park\", \"Carlsbad Caverns National Park\", \"Great Basin National Park\", \"Cuyahoga Valley National Park\", \"Crater Lake National Park\", \"Congaree National Park\", \"Badlands National Park\", \"Wind Cave National Park\", \"Great Smoky Mountains National Park\", \"Big Bend National Park\", \"Guadalupe Mountains National Park\", \"Arches National Park\", \"Bryce Canyon National Park\", \"Canyonlands National Park\", \"Capitol Reef National Park\", \"Zion National Park\", \"Shenandoah National Park\", \"Mount Rainier National Park\", \"North Cascades National Park\", \"Olympic National Park\", \"Grand Teton National Park\", \"Yellowstone National Park\"], \"type\": \"choropleth\", \"z\": [3372402.0, 7523898.0, 3224840.0, 3674530.0, 669983.0, 1750717.0, 2619733.0, 8323148.0, 5550.0, 1217403.0, 93533.0, 91440.0, 249561.0, 789745.0, 106372.0, 26606.0, 112512.0, 865952.0, 761266.0, 4740912.0, 32950.0, 42984.0, 52122.0, 265828.0, 172924.0, 64701.0, 1508538.0, 29094.0, 323431.0, 52830.0, 47390.0, 571790.0, 218200.0, 1013572.0, 70447.0, 46766.0, 77180.0, 32950.0, 183224.0, 26546.0, 242756.0, 28295.0, 521490.0, 801163.0, 86416.0, 76519.0, 35835.0, 337598.0, 241904.0, 146598.0, 199045.0, 235625.0, 504781.0, 922651.0, 309995.0, 2219791.0]}],\n",
       "                        {\"geo\": {\"lakecolor\": \"rgb(255, 255, 255)\", \"projection\": {\"type\": \"albers usa\"}, \"scope\": \"usa\", \"showlakes\": true}, \"template\": {\"data\": {\"bar\": [{\"error_x\": {\"color\": \"#2a3f5f\"}, \"error_y\": {\"color\": \"#2a3f5f\"}, \"marker\": {\"line\": {\"color\": \"#E5ECF6\", \"width\": 0.5}}, \"type\": \"bar\"}], \"barpolar\": [{\"marker\": {\"line\": {\"color\": \"#E5ECF6\", \"width\": 0.5}}, \"type\": \"barpolar\"}], \"carpet\": [{\"aaxis\": {\"endlinecolor\": \"#2a3f5f\", \"gridcolor\": \"white\", \"linecolor\": \"white\", \"minorgridcolor\": \"white\", \"startlinecolor\": \"#2a3f5f\"}, \"baxis\": {\"endlinecolor\": \"#2a3f5f\", \"gridcolor\": \"white\", \"linecolor\": \"white\", \"minorgridcolor\": \"white\", \"startlinecolor\": \"#2a3f5f\"}, \"type\": \"carpet\"}], \"choropleth\": [{\"colorbar\": {\"outlinewidth\": 0, \"ticks\": \"\"}, \"type\": \"choropleth\"}], \"contour\": [{\"colorbar\": {\"outlinewidth\": 0, \"ticks\": \"\"}, \"colorscale\": [[0.0, \"#0d0887\"], [0.1111111111111111, \"#46039f\"], [0.2222222222222222, \"#7201a8\"], [0.3333333333333333, \"#9c179e\"], [0.4444444444444444, \"#bd3786\"], [0.5555555555555556, \"#d8576b\"], [0.6666666666666666, \"#ed7953\"], [0.7777777777777778, \"#fb9f3a\"], [0.8888888888888888, \"#fdca26\"], [1.0, \"#f0f921\"]], \"type\": \"contour\"}], \"contourcarpet\": [{\"colorbar\": {\"outlinewidth\": 0, \"ticks\": \"\"}, \"type\": \"contourcarpet\"}], \"heatmap\": [{\"colorbar\": {\"outlinewidth\": 0, \"ticks\": \"\"}, \"colorscale\": [[0.0, \"#0d0887\"], [0.1111111111111111, \"#46039f\"], [0.2222222222222222, \"#7201a8\"], [0.3333333333333333, \"#9c179e\"], [0.4444444444444444, \"#bd3786\"], [0.5555555555555556, \"#d8576b\"], [0.6666666666666666, \"#ed7953\"], [0.7777777777777778, \"#fb9f3a\"], [0.8888888888888888, \"#fdca26\"], [1.0, \"#f0f921\"]], \"type\": \"heatmap\"}], \"heatmapgl\": [{\"colorbar\": {\"outlinewidth\": 0, \"ticks\": \"\"}, \"colorscale\": [[0.0, \"#0d0887\"], [0.1111111111111111, \"#46039f\"], [0.2222222222222222, \"#7201a8\"], [0.3333333333333333, \"#9c179e\"], [0.4444444444444444, \"#bd3786\"], [0.5555555555555556, \"#d8576b\"], [0.6666666666666666, \"#ed7953\"], [0.7777777777777778, \"#fb9f3a\"], [0.8888888888888888, \"#fdca26\"], [1.0, \"#f0f921\"]], \"type\": \"heatmapgl\"}], \"histogram\": [{\"marker\": {\"colorbar\": {\"outlinewidth\": 0, \"ticks\": \"\"}}, \"type\": \"histogram\"}], \"histogram2d\": [{\"colorbar\": {\"outlinewidth\": 0, \"ticks\": \"\"}, \"colorscale\": [[0.0, \"#0d0887\"], [0.1111111111111111, \"#46039f\"], [0.2222222222222222, \"#7201a8\"], [0.3333333333333333, \"#9c179e\"], [0.4444444444444444, \"#bd3786\"], [0.5555555555555556, \"#d8576b\"], [0.6666666666666666, \"#ed7953\"], [0.7777777777777778, \"#fb9f3a\"], [0.8888888888888888, \"#fdca26\"], [1.0, \"#f0f921\"]], \"type\": \"histogram2d\"}], \"histogram2dcontour\": [{\"colorbar\": {\"outlinewidth\": 0, \"ticks\": \"\"}, \"colorscale\": [[0.0, \"#0d0887\"], [0.1111111111111111, \"#46039f\"], [0.2222222222222222, \"#7201a8\"], [0.3333333333333333, \"#9c179e\"], [0.4444444444444444, \"#bd3786\"], [0.5555555555555556, \"#d8576b\"], [0.6666666666666666, \"#ed7953\"], [0.7777777777777778, \"#fb9f3a\"], [0.8888888888888888, \"#fdca26\"], [1.0, \"#f0f921\"]], \"type\": \"histogram2dcontour\"}], \"mesh3d\": [{\"colorbar\": {\"outlinewidth\": 0, \"ticks\": \"\"}, \"type\": \"mesh3d\"}], \"parcoords\": [{\"line\": {\"colorbar\": {\"outlinewidth\": 0, \"ticks\": \"\"}}, \"type\": \"parcoords\"}], \"pie\": [{\"automargin\": true, \"type\": \"pie\"}], \"scatter\": [{\"marker\": {\"colorbar\": {\"outlinewidth\": 0, \"ticks\": \"\"}}, \"type\": \"scatter\"}], \"scatter3d\": [{\"line\": {\"colorbar\": {\"outlinewidth\": 0, \"ticks\": \"\"}}, \"marker\": {\"colorbar\": {\"outlinewidth\": 0, \"ticks\": \"\"}}, \"type\": \"scatter3d\"}], \"scattercarpet\": [{\"marker\": {\"colorbar\": {\"outlinewidth\": 0, \"ticks\": \"\"}}, \"type\": \"scattercarpet\"}], \"scattergeo\": [{\"marker\": {\"colorbar\": {\"outlinewidth\": 0, \"ticks\": \"\"}}, \"type\": \"scattergeo\"}], \"scattergl\": [{\"marker\": {\"colorbar\": {\"outlinewidth\": 0, \"ticks\": \"\"}}, \"type\": \"scattergl\"}], \"scattermapbox\": [{\"marker\": {\"colorbar\": {\"outlinewidth\": 0, \"ticks\": \"\"}}, \"type\": \"scattermapbox\"}], \"scatterpolar\": [{\"marker\": {\"colorbar\": {\"outlinewidth\": 0, \"ticks\": \"\"}}, \"type\": \"scatterpolar\"}], \"scatterpolargl\": [{\"marker\": {\"colorbar\": {\"outlinewidth\": 0, \"ticks\": \"\"}}, \"type\": \"scatterpolargl\"}], \"scatterternary\": [{\"marker\": {\"colorbar\": {\"outlinewidth\": 0, \"ticks\": \"\"}}, \"type\": \"scatterternary\"}], \"surface\": [{\"colorbar\": {\"outlinewidth\": 0, \"ticks\": \"\"}, \"colorscale\": [[0.0, \"#0d0887\"], [0.1111111111111111, \"#46039f\"], [0.2222222222222222, \"#7201a8\"], [0.3333333333333333, \"#9c179e\"], [0.4444444444444444, \"#bd3786\"], [0.5555555555555556, \"#d8576b\"], [0.6666666666666666, \"#ed7953\"], [0.7777777777777778, \"#fb9f3a\"], [0.8888888888888888, \"#fdca26\"], [1.0, \"#f0f921\"]], \"type\": \"surface\"}], \"table\": [{\"cells\": {\"fill\": {\"color\": \"#EBF0F8\"}, \"line\": {\"color\": \"white\"}}, \"header\": {\"fill\": {\"color\": \"#C8D4E3\"}, \"line\": {\"color\": \"white\"}}, \"type\": \"table\"}]}, \"layout\": {\"annotationdefaults\": {\"arrowcolor\": \"#2a3f5f\", \"arrowhead\": 0, \"arrowwidth\": 1}, \"coloraxis\": {\"colorbar\": {\"outlinewidth\": 0, \"ticks\": \"\"}}, \"colorscale\": {\"diverging\": [[0, \"#8e0152\"], [0.1, \"#c51b7d\"], [0.2, \"#de77ae\"], [0.3, \"#f1b6da\"], [0.4, \"#fde0ef\"], [0.5, \"#f7f7f7\"], [0.6, \"#e6f5d0\"], [0.7, \"#b8e186\"], [0.8, \"#7fbc41\"], [0.9, \"#4d9221\"], [1, \"#276419\"]], \"sequential\": [[0.0, \"#0d0887\"], [0.1111111111111111, \"#46039f\"], [0.2222222222222222, \"#7201a8\"], [0.3333333333333333, \"#9c179e\"], [0.4444444444444444, \"#bd3786\"], [0.5555555555555556, \"#d8576b\"], [0.6666666666666666, \"#ed7953\"], [0.7777777777777778, \"#fb9f3a\"], [0.8888888888888888, \"#fdca26\"], [1.0, \"#f0f921\"]], \"sequentialminus\": [[0.0, \"#0d0887\"], [0.1111111111111111, \"#46039f\"], [0.2222222222222222, \"#7201a8\"], [0.3333333333333333, \"#9c179e\"], [0.4444444444444444, \"#bd3786\"], [0.5555555555555556, \"#d8576b\"], [0.6666666666666666, \"#ed7953\"], [0.7777777777777778, \"#fb9f3a\"], [0.8888888888888888, \"#fdca26\"], [1.0, \"#f0f921\"]]}, \"colorway\": [\"#636efa\", \"#EF553B\", \"#00cc96\", \"#ab63fa\", \"#FFA15A\", \"#19d3f3\", \"#FF6692\", \"#B6E880\", \"#FF97FF\", \"#FECB52\"], \"font\": {\"color\": \"#2a3f5f\"}, \"geo\": {\"bgcolor\": \"white\", \"lakecolor\": \"white\", \"landcolor\": \"#E5ECF6\", \"showlakes\": true, \"showland\": true, \"subunitcolor\": \"white\"}, \"hoverlabel\": {\"align\": \"left\"}, \"hovermode\": \"closest\", \"mapbox\": {\"style\": \"light\"}, \"paper_bgcolor\": \"white\", \"plot_bgcolor\": \"#E5ECF6\", \"polar\": {\"angularaxis\": {\"gridcolor\": \"white\", \"linecolor\": \"white\", \"ticks\": \"\"}, \"bgcolor\": \"#E5ECF6\", \"radialaxis\": {\"gridcolor\": \"white\", \"linecolor\": \"white\", \"ticks\": \"\"}}, \"scene\": {\"xaxis\": {\"backgroundcolor\": \"#E5ECF6\", \"gridcolor\": \"white\", \"gridwidth\": 2, \"linecolor\": \"white\", \"showbackground\": true, \"ticks\": \"\", \"zerolinecolor\": \"white\"}, \"yaxis\": {\"backgroundcolor\": \"#E5ECF6\", \"gridcolor\": \"white\", \"gridwidth\": 2, \"linecolor\": \"white\", \"showbackground\": true, \"ticks\": \"\", \"zerolinecolor\": \"white\"}, \"zaxis\": {\"backgroundcolor\": \"#E5ECF6\", \"gridcolor\": \"white\", \"gridwidth\": 2, \"linecolor\": \"white\", \"showbackground\": true, \"ticks\": \"\", \"zerolinecolor\": \"white\"}}, \"shapedefaults\": {\"line\": {\"color\": \"#2a3f5f\"}}, \"ternary\": {\"aaxis\": {\"gridcolor\": \"white\", \"linecolor\": \"white\", \"ticks\": \"\"}, \"baxis\": {\"gridcolor\": \"white\", \"linecolor\": \"white\", \"ticks\": \"\"}, \"bgcolor\": \"#E5ECF6\", \"caxis\": {\"gridcolor\": \"white\", \"linecolor\": \"white\", \"ticks\": \"\"}}, \"title\": {\"x\": 0.05}, \"xaxis\": {\"automargin\": true, \"gridcolor\": \"white\", \"linecolor\": \"white\", \"ticks\": \"\", \"title\": {\"standoff\": 15}, \"zerolinecolor\": \"white\", \"zerolinewidth\": 2}, \"yaxis\": {\"automargin\": true, \"gridcolor\": \"white\", \"linecolor\": \"white\", \"ticks\": \"\", \"title\": {\"standoff\": 15}, \"zerolinecolor\": \"white\", \"zerolinewidth\": 2}}}, \"title\": {\"text\": \"US National Parks\"}},\n",
       "                        {\"responsive\": true}\n",
       "                    ).then(function(){\n",
       "                            \n",
       "var gd = document.getElementById('1fb20e7d-1851-431d-a4d3-6366472411ea');\n",
       "var x = new MutationObserver(function (mutations, observer) {{\n",
       "        var display = window.getComputedStyle(gd).display;\n",
       "        if (!display || display === 'none') {{\n",
       "            console.log([gd, 'removed!']);\n",
       "            Plotly.purge(gd);\n",
       "            observer.disconnect();\n",
       "        }}\n",
       "}});\n",
       "\n",
       "// Listen for the removal of the full notebook cells\n",
       "var notebookContainer = gd.closest('#notebook-container');\n",
       "if (notebookContainer) {{\n",
       "    x.observe(notebookContainer, {childList: true});\n",
       "}}\n",
       "\n",
       "// Listen for the clearing of the current output cell\n",
       "var outputEl = gd.closest('.output');\n",
       "if (outputEl) {{\n",
       "    x.observe(outputEl, {childList: true});\n",
       "}}\n",
       "\n",
       "                        })\n",
       "                };\n",
       "                });\n",
       "            </script>\n",
       "        </div>"
      ]
     },
     "metadata": {},
     "output_type": "display_data"
    }
   ],
   "source": [
    "import plotly.graph_objects as go\n",
    "for col in df_num_parks.columns:\n",
    "    df_num_parks[col] = df_num_parks[col].astype(str)\n",
    "df_num_parks['text'] = df_num_parks['Park Name']\n",
    "fig = go.Figure(data=go.Choropleth(\n",
    "    locations=df_num_parks['State'],\n",
    "    z=df_num_parks['Acres'].astype(float),\n",
    "    locationmode='USA-states',\n",
    "    colorscale='Reds',\n",
    "    autocolorscale=False,\n",
    "    text=df_num_parks['text'],\n",
    "    marker_line_color='white', # line markers between states\n",
    "    colorbar_title=\"Acres\"\n",
    "))\n",
    "fig.update_layout(\n",
    "    title_text='US National Parks', \n",
    "    geo = dict(\n",
    "        scope='usa',\n",
    "        projection=go.layout.geo.Projection(type = 'albers usa'),\n",
    "        showlakes=True, # lakes\n",
    "        lakecolor='rgb(255, 255, 255)'),\n",
    ")\n",
    "\n",
    "\n",
    "fig.show()\n"
   ]
  },
  {
   "cell_type": "code",
   "execution_count": 7,
   "metadata": {
    "scrolled": true
   },
   "outputs": [
    {
     "data": {
      "text/html": [
       "<div>\n",
       "<style scoped>\n",
       "    .dataframe tbody tr th:only-of-type {\n",
       "        vertical-align: middle;\n",
       "    }\n",
       "\n",
       "    .dataframe tbody tr th {\n",
       "        vertical-align: top;\n",
       "    }\n",
       "\n",
       "    .dataframe thead th {\n",
       "        text-align: right;\n",
       "    }\n",
       "</style>\n",
       "<table border=\"1\" class=\"dataframe\">\n",
       "  <thead>\n",
       "    <tr style=\"text-align: right;\">\n",
       "      <th></th>\n",
       "      <th>Species ID</th>\n",
       "      <th>Park Name</th>\n",
       "      <th>Category</th>\n",
       "      <th>Order</th>\n",
       "      <th>Family</th>\n",
       "      <th>Scientific Name</th>\n",
       "      <th>Common Names</th>\n",
       "      <th>Record Status</th>\n",
       "      <th>Occurrence</th>\n",
       "      <th>Nativeness</th>\n",
       "      <th>Abundance</th>\n",
       "      <th>Seasonality</th>\n",
       "      <th>Conservation Status</th>\n",
       "      <th>Unnamed: 13</th>\n",
       "    </tr>\n",
       "  </thead>\n",
       "  <tbody>\n",
       "    <tr>\n",
       "      <td>0</td>\n",
       "      <td>ACAD-1000</td>\n",
       "      <td>Acadia National Park</td>\n",
       "      <td>Mammal</td>\n",
       "      <td>Artiodactyla</td>\n",
       "      <td>Cervidae</td>\n",
       "      <td>Alces alces</td>\n",
       "      <td>Moose</td>\n",
       "      <td>Approved</td>\n",
       "      <td>Present</td>\n",
       "      <td>Native</td>\n",
       "      <td>Rare</td>\n",
       "      <td>Resident</td>\n",
       "      <td>NaN</td>\n",
       "      <td>NaN</td>\n",
       "    </tr>\n",
       "    <tr>\n",
       "      <td>1</td>\n",
       "      <td>ACAD-1001</td>\n",
       "      <td>Acadia National Park</td>\n",
       "      <td>Mammal</td>\n",
       "      <td>Artiodactyla</td>\n",
       "      <td>Cervidae</td>\n",
       "      <td>Odocoileus virginianus</td>\n",
       "      <td>Northern White-Tailed Deer, Virginia Deer, Whi...</td>\n",
       "      <td>Approved</td>\n",
       "      <td>Present</td>\n",
       "      <td>Native</td>\n",
       "      <td>Abundant</td>\n",
       "      <td>NaN</td>\n",
       "      <td>NaN</td>\n",
       "      <td>NaN</td>\n",
       "    </tr>\n",
       "    <tr>\n",
       "      <td>2</td>\n",
       "      <td>ACAD-1002</td>\n",
       "      <td>Acadia National Park</td>\n",
       "      <td>Mammal</td>\n",
       "      <td>Carnivora</td>\n",
       "      <td>Canidae</td>\n",
       "      <td>Canis latrans</td>\n",
       "      <td>Coyote, Eastern Coyote</td>\n",
       "      <td>Approved</td>\n",
       "      <td>Present</td>\n",
       "      <td>Not Native</td>\n",
       "      <td>Common</td>\n",
       "      <td>NaN</td>\n",
       "      <td>Species of Concern</td>\n",
       "      <td>NaN</td>\n",
       "    </tr>\n",
       "    <tr>\n",
       "      <td>3</td>\n",
       "      <td>ACAD-1003</td>\n",
       "      <td>Acadia National Park</td>\n",
       "      <td>Mammal</td>\n",
       "      <td>Carnivora</td>\n",
       "      <td>Canidae</td>\n",
       "      <td>Canis lupus</td>\n",
       "      <td>Eastern Timber Wolf, Gray Wolf, Timber Wolf</td>\n",
       "      <td>Approved</td>\n",
       "      <td>Not Confirmed</td>\n",
       "      <td>Native</td>\n",
       "      <td>NaN</td>\n",
       "      <td>NaN</td>\n",
       "      <td>Endangered</td>\n",
       "      <td>NaN</td>\n",
       "    </tr>\n",
       "    <tr>\n",
       "      <td>4</td>\n",
       "      <td>ACAD-1004</td>\n",
       "      <td>Acadia National Park</td>\n",
       "      <td>Mammal</td>\n",
       "      <td>Carnivora</td>\n",
       "      <td>Canidae</td>\n",
       "      <td>Vulpes vulpes</td>\n",
       "      <td>Black Fox, Cross Fox, Eastern Red Fox, Fox, Re...</td>\n",
       "      <td>Approved</td>\n",
       "      <td>Present</td>\n",
       "      <td>Unknown</td>\n",
       "      <td>Common</td>\n",
       "      <td>Breeder</td>\n",
       "      <td>NaN</td>\n",
       "      <td>NaN</td>\n",
       "    </tr>\n",
       "  </tbody>\n",
       "</table>\n",
       "</div>"
      ],
      "text/plain": [
       "  Species ID             Park Name Category         Order    Family  \\\n",
       "0  ACAD-1000  Acadia National Park   Mammal  Artiodactyla  Cervidae   \n",
       "1  ACAD-1001  Acadia National Park   Mammal  Artiodactyla  Cervidae   \n",
       "2  ACAD-1002  Acadia National Park   Mammal     Carnivora   Canidae   \n",
       "3  ACAD-1003  Acadia National Park   Mammal     Carnivora   Canidae   \n",
       "4  ACAD-1004  Acadia National Park   Mammal     Carnivora   Canidae   \n",
       "\n",
       "          Scientific Name                                       Common Names  \\\n",
       "0             Alces alces                                              Moose   \n",
       "1  Odocoileus virginianus  Northern White-Tailed Deer, Virginia Deer, Whi...   \n",
       "2           Canis latrans                             Coyote, Eastern Coyote   \n",
       "3             Canis lupus        Eastern Timber Wolf, Gray Wolf, Timber Wolf   \n",
       "4           Vulpes vulpes  Black Fox, Cross Fox, Eastern Red Fox, Fox, Re...   \n",
       "\n",
       "  Record Status     Occurrence  Nativeness Abundance Seasonality  \\\n",
       "0      Approved        Present      Native      Rare    Resident   \n",
       "1      Approved        Present      Native  Abundant         NaN   \n",
       "2      Approved        Present  Not Native    Common         NaN   \n",
       "3      Approved  Not Confirmed      Native       NaN         NaN   \n",
       "4      Approved        Present     Unknown    Common     Breeder   \n",
       "\n",
       "  Conservation Status Unnamed: 13  \n",
       "0                 NaN         NaN  \n",
       "1                 NaN         NaN  \n",
       "2  Species of Concern         NaN  \n",
       "3          Endangered         NaN  \n",
       "4                 NaN         NaN  "
      ]
     },
     "execution_count": 7,
     "metadata": {},
     "output_type": "execute_result"
    }
   ],
   "source": [
    "df_species = pd.read_csv('species.csv')\n",
    "df_species.head()"
   ]
  },
  {
   "cell_type": "code",
   "execution_count": 16,
   "metadata": {},
   "outputs": [
    {
     "name": "stdout",
     "output_type": "stream",
     "text": [
      "<class 'pandas.core.frame.DataFrame'>\n",
      "RangeIndex: 119248 entries, 0 to 119247\n",
      "Data columns (total 14 columns):\n",
      "Species ID             119248 non-null object\n",
      "Park Name              119248 non-null object\n",
      "Category               119248 non-null object\n",
      "Order                  117776 non-null object\n",
      "Family                 117736 non-null object\n",
      "Scientific Name        119248 non-null object\n",
      "Common Names           119248 non-null object\n",
      "Record Status          119248 non-null object\n",
      "Occurrence             99106 non-null object\n",
      "Nativeness             94203 non-null object\n",
      "Abundance              76306 non-null object\n",
      "Seasonality            20157 non-null object\n",
      "Conservation Status    4718 non-null object\n",
      "Unnamed: 13            5 non-null object\n",
      "dtypes: object(14)\n",
      "memory usage: 12.7+ MB\n"
     ]
    }
   ],
   "source": [
    "df_species.info()"
   ]
  },
  {
   "cell_type": "code",
   "execution_count": 17,
   "metadata": {},
   "outputs": [
    {
     "data": {
      "text/plain": [
       "Species ID                  0\n",
       "Park Name                   0\n",
       "Category                    0\n",
       "Order                    1472\n",
       "Family                   1512\n",
       "Scientific Name             0\n",
       "Common Names                0\n",
       "Record Status               0\n",
       "Occurrence              20142\n",
       "Nativeness              25045\n",
       "Abundance               42942\n",
       "Seasonality             99091\n",
       "Conservation Status    114530\n",
       "Unnamed: 13            119243\n",
       "dtype: int64"
      ]
     },
     "execution_count": 17,
     "metadata": {},
     "output_type": "execute_result"
    }
   ],
   "source": [
    "df_species.isnull().sum()"
   ]
  },
  {
   "cell_type": "code",
   "execution_count": 28,
   "metadata": {},
   "outputs": [],
   "source": [
    "df_species.drop(['Species ID', 'Unnamed: 13'], axis=1, inplace = True)"
   ]
  },
  {
   "cell_type": "code",
   "execution_count": 31,
   "metadata": {},
   "outputs": [
    {
     "data": {
      "text/html": [
       "<div>\n",
       "<style scoped>\n",
       "    .dataframe tbody tr th:only-of-type {\n",
       "        vertical-align: middle;\n",
       "    }\n",
       "\n",
       "    .dataframe tbody tr th {\n",
       "        vertical-align: top;\n",
       "    }\n",
       "\n",
       "    .dataframe thead th {\n",
       "        text-align: right;\n",
       "    }\n",
       "</style>\n",
       "<table border=\"1\" class=\"dataframe\">\n",
       "  <thead>\n",
       "    <tr style=\"text-align: right;\">\n",
       "      <th></th>\n",
       "      <th>Park Name</th>\n",
       "      <th>State</th>\n",
       "      <th>Acres</th>\n",
       "      <th>Latitude</th>\n",
       "      <th>Longitude</th>\n",
       "      <th>Category</th>\n",
       "      <th>Order</th>\n",
       "      <th>Family</th>\n",
       "      <th>Scientific Name</th>\n",
       "      <th>Common Names</th>\n",
       "      <th>Record Status</th>\n",
       "      <th>Occurrence</th>\n",
       "      <th>Nativeness</th>\n",
       "      <th>Abundance</th>\n",
       "      <th>Seasonality</th>\n",
       "      <th>Conservation Status</th>\n",
       "    </tr>\n",
       "  </thead>\n",
       "  <tbody>\n",
       "    <tr>\n",
       "      <td>0</td>\n",
       "      <td>Acadia National Park</td>\n",
       "      <td>ME</td>\n",
       "      <td>47390</td>\n",
       "      <td>44.35</td>\n",
       "      <td>-68.21</td>\n",
       "      <td>Mammal</td>\n",
       "      <td>Artiodactyla</td>\n",
       "      <td>Cervidae</td>\n",
       "      <td>Alces alces</td>\n",
       "      <td>Moose</td>\n",
       "      <td>Approved</td>\n",
       "      <td>Present</td>\n",
       "      <td>Native</td>\n",
       "      <td>Rare</td>\n",
       "      <td>Resident</td>\n",
       "      <td>NaN</td>\n",
       "    </tr>\n",
       "    <tr>\n",
       "      <td>1</td>\n",
       "      <td>Acadia National Park</td>\n",
       "      <td>ME</td>\n",
       "      <td>47390</td>\n",
       "      <td>44.35</td>\n",
       "      <td>-68.21</td>\n",
       "      <td>Mammal</td>\n",
       "      <td>Artiodactyla</td>\n",
       "      <td>Cervidae</td>\n",
       "      <td>Odocoileus virginianus</td>\n",
       "      <td>Northern White-Tailed Deer, Virginia Deer, Whi...</td>\n",
       "      <td>Approved</td>\n",
       "      <td>Present</td>\n",
       "      <td>Native</td>\n",
       "      <td>Abundant</td>\n",
       "      <td>NaN</td>\n",
       "      <td>NaN</td>\n",
       "    </tr>\n",
       "    <tr>\n",
       "      <td>2</td>\n",
       "      <td>Acadia National Park</td>\n",
       "      <td>ME</td>\n",
       "      <td>47390</td>\n",
       "      <td>44.35</td>\n",
       "      <td>-68.21</td>\n",
       "      <td>Mammal</td>\n",
       "      <td>Carnivora</td>\n",
       "      <td>Canidae</td>\n",
       "      <td>Canis latrans</td>\n",
       "      <td>Coyote, Eastern Coyote</td>\n",
       "      <td>Approved</td>\n",
       "      <td>Present</td>\n",
       "      <td>Not Native</td>\n",
       "      <td>Common</td>\n",
       "      <td>NaN</td>\n",
       "      <td>Species of Concern</td>\n",
       "    </tr>\n",
       "    <tr>\n",
       "      <td>3</td>\n",
       "      <td>Acadia National Park</td>\n",
       "      <td>ME</td>\n",
       "      <td>47390</td>\n",
       "      <td>44.35</td>\n",
       "      <td>-68.21</td>\n",
       "      <td>Mammal</td>\n",
       "      <td>Carnivora</td>\n",
       "      <td>Canidae</td>\n",
       "      <td>Canis lupus</td>\n",
       "      <td>Eastern Timber Wolf, Gray Wolf, Timber Wolf</td>\n",
       "      <td>Approved</td>\n",
       "      <td>Not Confirmed</td>\n",
       "      <td>Native</td>\n",
       "      <td>NaN</td>\n",
       "      <td>NaN</td>\n",
       "      <td>Endangered</td>\n",
       "    </tr>\n",
       "    <tr>\n",
       "      <td>4</td>\n",
       "      <td>Acadia National Park</td>\n",
       "      <td>ME</td>\n",
       "      <td>47390</td>\n",
       "      <td>44.35</td>\n",
       "      <td>-68.21</td>\n",
       "      <td>Mammal</td>\n",
       "      <td>Carnivora</td>\n",
       "      <td>Canidae</td>\n",
       "      <td>Vulpes vulpes</td>\n",
       "      <td>Black Fox, Cross Fox, Eastern Red Fox, Fox, Re...</td>\n",
       "      <td>Approved</td>\n",
       "      <td>Present</td>\n",
       "      <td>Unknown</td>\n",
       "      <td>Common</td>\n",
       "      <td>Breeder</td>\n",
       "      <td>NaN</td>\n",
       "    </tr>\n",
       "    <tr>\n",
       "      <td>...</td>\n",
       "      <td>...</td>\n",
       "      <td>...</td>\n",
       "      <td>...</td>\n",
       "      <td>...</td>\n",
       "      <td>...</td>\n",
       "      <td>...</td>\n",
       "      <td>...</td>\n",
       "      <td>...</td>\n",
       "      <td>...</td>\n",
       "      <td>...</td>\n",
       "      <td>...</td>\n",
       "      <td>...</td>\n",
       "      <td>...</td>\n",
       "      <td>...</td>\n",
       "      <td>...</td>\n",
       "      <td>...</td>\n",
       "    </tr>\n",
       "    <tr>\n",
       "      <td>119243</td>\n",
       "      <td>Zion National Park</td>\n",
       "      <td>UT</td>\n",
       "      <td>146598</td>\n",
       "      <td>37.30</td>\n",
       "      <td>-113.05</td>\n",
       "      <td>Vascular Plant</td>\n",
       "      <td>Solanales</td>\n",
       "      <td>Solanaceae</td>\n",
       "      <td>Solanum triflorum</td>\n",
       "      <td>Cut-Leaf Nightshade</td>\n",
       "      <td>Approved</td>\n",
       "      <td>Present</td>\n",
       "      <td>Native</td>\n",
       "      <td>Uncommon</td>\n",
       "      <td>NaN</td>\n",
       "      <td>NaN</td>\n",
       "    </tr>\n",
       "    <tr>\n",
       "      <td>119244</td>\n",
       "      <td>Zion National Park</td>\n",
       "      <td>UT</td>\n",
       "      <td>146598</td>\n",
       "      <td>37.30</td>\n",
       "      <td>-113.05</td>\n",
       "      <td>Vascular Plant</td>\n",
       "      <td>Vitales</td>\n",
       "      <td>Vitaceae</td>\n",
       "      <td>Vitis arizonica</td>\n",
       "      <td>Canyon Grape</td>\n",
       "      <td>Approved</td>\n",
       "      <td>Present</td>\n",
       "      <td>Native</td>\n",
       "      <td>Uncommon</td>\n",
       "      <td>NaN</td>\n",
       "      <td>NaN</td>\n",
       "    </tr>\n",
       "    <tr>\n",
       "      <td>119245</td>\n",
       "      <td>Zion National Park</td>\n",
       "      <td>UT</td>\n",
       "      <td>146598</td>\n",
       "      <td>37.30</td>\n",
       "      <td>-113.05</td>\n",
       "      <td>Vascular Plant</td>\n",
       "      <td>Vitales</td>\n",
       "      <td>Vitaceae</td>\n",
       "      <td>Vitis vinifera</td>\n",
       "      <td>Wine Grape</td>\n",
       "      <td>Approved</td>\n",
       "      <td>Present</td>\n",
       "      <td>Not Native</td>\n",
       "      <td>Uncommon</td>\n",
       "      <td>NaN</td>\n",
       "      <td>NaN</td>\n",
       "    </tr>\n",
       "    <tr>\n",
       "      <td>119246</td>\n",
       "      <td>Zion National Park</td>\n",
       "      <td>UT</td>\n",
       "      <td>146598</td>\n",
       "      <td>37.30</td>\n",
       "      <td>-113.05</td>\n",
       "      <td>Vascular Plant</td>\n",
       "      <td>Zygophyllales</td>\n",
       "      <td>Zygophyllaceae</td>\n",
       "      <td>Larrea tridentata</td>\n",
       "      <td>Creosote Bush</td>\n",
       "      <td>Approved</td>\n",
       "      <td>Present</td>\n",
       "      <td>Native</td>\n",
       "      <td>Rare</td>\n",
       "      <td>NaN</td>\n",
       "      <td>NaN</td>\n",
       "    </tr>\n",
       "    <tr>\n",
       "      <td>119247</td>\n",
       "      <td>Zion National Park</td>\n",
       "      <td>UT</td>\n",
       "      <td>146598</td>\n",
       "      <td>37.30</td>\n",
       "      <td>-113.05</td>\n",
       "      <td>Vascular Plant</td>\n",
       "      <td>Zygophyllales</td>\n",
       "      <td>Zygophyllaceae</td>\n",
       "      <td>Tribulus terrestris</td>\n",
       "      <td>Puncture Vine</td>\n",
       "      <td>Approved</td>\n",
       "      <td>Present</td>\n",
       "      <td>Not Native</td>\n",
       "      <td>Uncommon</td>\n",
       "      <td>NaN</td>\n",
       "      <td>NaN</td>\n",
       "    </tr>\n",
       "  </tbody>\n",
       "</table>\n",
       "<p>119248 rows × 16 columns</p>\n",
       "</div>"
      ],
      "text/plain": [
       "                   Park Name State   Acres  Latitude  Longitude  \\\n",
       "0       Acadia National Park    ME   47390     44.35     -68.21   \n",
       "1       Acadia National Park    ME   47390     44.35     -68.21   \n",
       "2       Acadia National Park    ME   47390     44.35     -68.21   \n",
       "3       Acadia National Park    ME   47390     44.35     -68.21   \n",
       "4       Acadia National Park    ME   47390     44.35     -68.21   \n",
       "...                      ...   ...     ...       ...        ...   \n",
       "119243    Zion National Park    UT  146598     37.30    -113.05   \n",
       "119244    Zion National Park    UT  146598     37.30    -113.05   \n",
       "119245    Zion National Park    UT  146598     37.30    -113.05   \n",
       "119246    Zion National Park    UT  146598     37.30    -113.05   \n",
       "119247    Zion National Park    UT  146598     37.30    -113.05   \n",
       "\n",
       "              Category          Order          Family         Scientific Name  \\\n",
       "0               Mammal   Artiodactyla        Cervidae             Alces alces   \n",
       "1               Mammal   Artiodactyla        Cervidae  Odocoileus virginianus   \n",
       "2               Mammal      Carnivora         Canidae           Canis latrans   \n",
       "3               Mammal      Carnivora         Canidae             Canis lupus   \n",
       "4               Mammal      Carnivora         Canidae           Vulpes vulpes   \n",
       "...                ...            ...             ...                     ...   \n",
       "119243  Vascular Plant      Solanales      Solanaceae       Solanum triflorum   \n",
       "119244  Vascular Plant        Vitales        Vitaceae         Vitis arizonica   \n",
       "119245  Vascular Plant        Vitales        Vitaceae          Vitis vinifera   \n",
       "119246  Vascular Plant  Zygophyllales  Zygophyllaceae       Larrea tridentata   \n",
       "119247  Vascular Plant  Zygophyllales  Zygophyllaceae     Tribulus terrestris   \n",
       "\n",
       "                                             Common Names Record Status  \\\n",
       "0                                                   Moose      Approved   \n",
       "1       Northern White-Tailed Deer, Virginia Deer, Whi...      Approved   \n",
       "2                                  Coyote, Eastern Coyote      Approved   \n",
       "3             Eastern Timber Wolf, Gray Wolf, Timber Wolf      Approved   \n",
       "4       Black Fox, Cross Fox, Eastern Red Fox, Fox, Re...      Approved   \n",
       "...                                                   ...           ...   \n",
       "119243                                Cut-Leaf Nightshade      Approved   \n",
       "119244                                       Canyon Grape      Approved   \n",
       "119245                                         Wine Grape      Approved   \n",
       "119246                                      Creosote Bush      Approved   \n",
       "119247                                      Puncture Vine      Approved   \n",
       "\n",
       "           Occurrence  Nativeness Abundance Seasonality Conservation Status  \n",
       "0             Present      Native      Rare    Resident                 NaN  \n",
       "1             Present      Native  Abundant         NaN                 NaN  \n",
       "2             Present  Not Native    Common         NaN  Species of Concern  \n",
       "3       Not Confirmed      Native       NaN         NaN          Endangered  \n",
       "4             Present     Unknown    Common     Breeder                 NaN  \n",
       "...               ...         ...       ...         ...                 ...  \n",
       "119243        Present      Native  Uncommon         NaN                 NaN  \n",
       "119244        Present      Native  Uncommon         NaN                 NaN  \n",
       "119245        Present  Not Native  Uncommon         NaN                 NaN  \n",
       "119246        Present      Native      Rare         NaN                 NaN  \n",
       "119247        Present  Not Native  Uncommon         NaN                 NaN  \n",
       "\n",
       "[119248 rows x 16 columns]"
      ]
     },
     "execution_count": 31,
     "metadata": {},
     "output_type": "execute_result"
    }
   ],
   "source": [
    "df_park_species = pd.merge(df_park, df_species, on = 'Park Name')\n",
    "df_park_species"
   ]
  },
  {
   "cell_type": "code",
   "execution_count": 30,
   "metadata": {},
   "outputs": [],
   "source": [
    "#df2 = df2.iloc[:,:-1]\n",
    "#df2.head()"
   ]
  },
  {
   "cell_type": "code",
   "execution_count": 18,
   "metadata": {},
   "outputs": [
    {
     "data": {
      "text/html": [
       "<div>\n",
       "<style scoped>\n",
       "    .dataframe tbody tr th:only-of-type {\n",
       "        vertical-align: middle;\n",
       "    }\n",
       "\n",
       "    .dataframe tbody tr th {\n",
       "        vertical-align: top;\n",
       "    }\n",
       "\n",
       "    .dataframe thead th {\n",
       "        text-align: right;\n",
       "    }\n",
       "</style>\n",
       "<table border=\"1\" class=\"dataframe\">\n",
       "  <thead>\n",
       "    <tr style=\"text-align: right;\">\n",
       "      <th>Conservation Status</th>\n",
       "      <th>Breeder</th>\n",
       "      <th>Endangered</th>\n",
       "      <th>Extinct</th>\n",
       "      <th>In Recovery</th>\n",
       "      <th>Migratory</th>\n",
       "      <th>Proposed Endangered</th>\n",
       "      <th>Proposed Threatened</th>\n",
       "      <th>Resident</th>\n",
       "      <th>Species of Concern</th>\n",
       "      <th>Threatened</th>\n",
       "      <th>Under Review</th>\n",
       "      <th>All</th>\n",
       "    </tr>\n",
       "    <tr>\n",
       "      <th>Category</th>\n",
       "      <th></th>\n",
       "      <th></th>\n",
       "      <th></th>\n",
       "      <th></th>\n",
       "      <th></th>\n",
       "      <th></th>\n",
       "      <th></th>\n",
       "      <th></th>\n",
       "      <th></th>\n",
       "      <th></th>\n",
       "      <th></th>\n",
       "      <th></th>\n",
       "    </tr>\n",
       "  </thead>\n",
       "  <tbody>\n",
       "    <tr>\n",
       "      <td>Amphibian</td>\n",
       "      <td>0</td>\n",
       "      <td>5</td>\n",
       "      <td>0</td>\n",
       "      <td>0</td>\n",
       "      <td>0</td>\n",
       "      <td>0</td>\n",
       "      <td>0</td>\n",
       "      <td>0</td>\n",
       "      <td>61</td>\n",
       "      <td>8</td>\n",
       "      <td>26</td>\n",
       "      <td>100</td>\n",
       "    </tr>\n",
       "    <tr>\n",
       "      <td>Bird</td>\n",
       "      <td>4</td>\n",
       "      <td>64</td>\n",
       "      <td>0</td>\n",
       "      <td>65</td>\n",
       "      <td>0</td>\n",
       "      <td>2</td>\n",
       "      <td>0</td>\n",
       "      <td>4</td>\n",
       "      <td>2371</td>\n",
       "      <td>51</td>\n",
       "      <td>70</td>\n",
       "      <td>2631</td>\n",
       "    </tr>\n",
       "    <tr>\n",
       "      <td>Crab/Lobster/Shrimp</td>\n",
       "      <td>0</td>\n",
       "      <td>1</td>\n",
       "      <td>0</td>\n",
       "      <td>0</td>\n",
       "      <td>0</td>\n",
       "      <td>0</td>\n",
       "      <td>0</td>\n",
       "      <td>0</td>\n",
       "      <td>0</td>\n",
       "      <td>0</td>\n",
       "      <td>1</td>\n",
       "      <td>2</td>\n",
       "    </tr>\n",
       "    <tr>\n",
       "      <td>Fish</td>\n",
       "      <td>1</td>\n",
       "      <td>33</td>\n",
       "      <td>1</td>\n",
       "      <td>0</td>\n",
       "      <td>0</td>\n",
       "      <td>0</td>\n",
       "      <td>0</td>\n",
       "      <td>0</td>\n",
       "      <td>66</td>\n",
       "      <td>40</td>\n",
       "      <td>10</td>\n",
       "      <td>151</td>\n",
       "    </tr>\n",
       "    <tr>\n",
       "      <td>Fungi</td>\n",
       "      <td>0</td>\n",
       "      <td>1</td>\n",
       "      <td>0</td>\n",
       "      <td>0</td>\n",
       "      <td>0</td>\n",
       "      <td>0</td>\n",
       "      <td>0</td>\n",
       "      <td>0</td>\n",
       "      <td>2</td>\n",
       "      <td>0</td>\n",
       "      <td>1</td>\n",
       "      <td>4</td>\n",
       "    </tr>\n",
       "    <tr>\n",
       "      <td>Insect</td>\n",
       "      <td>0</td>\n",
       "      <td>17</td>\n",
       "      <td>0</td>\n",
       "      <td>0</td>\n",
       "      <td>0</td>\n",
       "      <td>1</td>\n",
       "      <td>0</td>\n",
       "      <td>0</td>\n",
       "      <td>107</td>\n",
       "      <td>4</td>\n",
       "      <td>12</td>\n",
       "      <td>141</td>\n",
       "    </tr>\n",
       "    <tr>\n",
       "      <td>Invertebrate</td>\n",
       "      <td>0</td>\n",
       "      <td>9</td>\n",
       "      <td>0</td>\n",
       "      <td>0</td>\n",
       "      <td>0</td>\n",
       "      <td>0</td>\n",
       "      <td>0</td>\n",
       "      <td>0</td>\n",
       "      <td>1</td>\n",
       "      <td>7</td>\n",
       "      <td>4</td>\n",
       "      <td>21</td>\n",
       "    </tr>\n",
       "    <tr>\n",
       "      <td>Mammal</td>\n",
       "      <td>1</td>\n",
       "      <td>93</td>\n",
       "      <td>0</td>\n",
       "      <td>9</td>\n",
       "      <td>2</td>\n",
       "      <td>0</td>\n",
       "      <td>3</td>\n",
       "      <td>0</td>\n",
       "      <td>552</td>\n",
       "      <td>19</td>\n",
       "      <td>1</td>\n",
       "      <td>680</td>\n",
       "    </tr>\n",
       "    <tr>\n",
       "      <td>Nonvascular Plant</td>\n",
       "      <td>0</td>\n",
       "      <td>0</td>\n",
       "      <td>0</td>\n",
       "      <td>0</td>\n",
       "      <td>0</td>\n",
       "      <td>0</td>\n",
       "      <td>0</td>\n",
       "      <td>0</td>\n",
       "      <td>27</td>\n",
       "      <td>0</td>\n",
       "      <td>4</td>\n",
       "      <td>31</td>\n",
       "    </tr>\n",
       "    <tr>\n",
       "      <td>Reptile</td>\n",
       "      <td>1</td>\n",
       "      <td>17</td>\n",
       "      <td>0</td>\n",
       "      <td>1</td>\n",
       "      <td>0</td>\n",
       "      <td>0</td>\n",
       "      <td>2</td>\n",
       "      <td>1</td>\n",
       "      <td>98</td>\n",
       "      <td>17</td>\n",
       "      <td>16</td>\n",
       "      <td>153</td>\n",
       "    </tr>\n",
       "    <tr>\n",
       "      <td>Slug/Snail</td>\n",
       "      <td>0</td>\n",
       "      <td>5</td>\n",
       "      <td>0</td>\n",
       "      <td>0</td>\n",
       "      <td>0</td>\n",
       "      <td>0</td>\n",
       "      <td>0</td>\n",
       "      <td>0</td>\n",
       "      <td>21</td>\n",
       "      <td>1</td>\n",
       "      <td>13</td>\n",
       "      <td>40</td>\n",
       "    </tr>\n",
       "    <tr>\n",
       "      <td>Spider/Scorpion</td>\n",
       "      <td>0</td>\n",
       "      <td>1</td>\n",
       "      <td>0</td>\n",
       "      <td>0</td>\n",
       "      <td>0</td>\n",
       "      <td>0</td>\n",
       "      <td>0</td>\n",
       "      <td>0</td>\n",
       "      <td>0</td>\n",
       "      <td>0</td>\n",
       "      <td>0</td>\n",
       "      <td>1</td>\n",
       "    </tr>\n",
       "    <tr>\n",
       "      <td>Vascular Plant</td>\n",
       "      <td>0</td>\n",
       "      <td>128</td>\n",
       "      <td>0</td>\n",
       "      <td>2</td>\n",
       "      <td>0</td>\n",
       "      <td>21</td>\n",
       "      <td>2</td>\n",
       "      <td>0</td>\n",
       "      <td>537</td>\n",
       "      <td>37</td>\n",
       "      <td>36</td>\n",
       "      <td>763</td>\n",
       "    </tr>\n",
       "    <tr>\n",
       "      <td>All</td>\n",
       "      <td>7</td>\n",
       "      <td>374</td>\n",
       "      <td>1</td>\n",
       "      <td>77</td>\n",
       "      <td>2</td>\n",
       "      <td>24</td>\n",
       "      <td>7</td>\n",
       "      <td>5</td>\n",
       "      <td>3843</td>\n",
       "      <td>184</td>\n",
       "      <td>194</td>\n",
       "      <td>4718</td>\n",
       "    </tr>\n",
       "  </tbody>\n",
       "</table>\n",
       "</div>"
      ],
      "text/plain": [
       "Conservation Status  Breeder  Endangered  Extinct  In Recovery  Migratory  \\\n",
       "Category                                                                    \n",
       "Amphibian                  0           5        0            0          0   \n",
       "Bird                       4          64        0           65          0   \n",
       "Crab/Lobster/Shrimp        0           1        0            0          0   \n",
       "Fish                       1          33        1            0          0   \n",
       "Fungi                      0           1        0            0          0   \n",
       "Insect                     0          17        0            0          0   \n",
       "Invertebrate               0           9        0            0          0   \n",
       "Mammal                     1          93        0            9          2   \n",
       "Nonvascular Plant          0           0        0            0          0   \n",
       "Reptile                    1          17        0            1          0   \n",
       "Slug/Snail                 0           5        0            0          0   \n",
       "Spider/Scorpion            0           1        0            0          0   \n",
       "Vascular Plant             0         128        0            2          0   \n",
       "All                        7         374        1           77          2   \n",
       "\n",
       "Conservation Status  Proposed Endangered  Proposed Threatened  Resident  \\\n",
       "Category                                                                  \n",
       "Amphibian                              0                    0         0   \n",
       "Bird                                   2                    0         4   \n",
       "Crab/Lobster/Shrimp                    0                    0         0   \n",
       "Fish                                   0                    0         0   \n",
       "Fungi                                  0                    0         0   \n",
       "Insect                                 1                    0         0   \n",
       "Invertebrate                           0                    0         0   \n",
       "Mammal                                 0                    3         0   \n",
       "Nonvascular Plant                      0                    0         0   \n",
       "Reptile                                0                    2         1   \n",
       "Slug/Snail                             0                    0         0   \n",
       "Spider/Scorpion                        0                    0         0   \n",
       "Vascular Plant                        21                    2         0   \n",
       "All                                   24                    7         5   \n",
       "\n",
       "Conservation Status  Species of Concern  Threatened  Under Review   All  \n",
       "Category                                                                 \n",
       "Amphibian                            61           8            26   100  \n",
       "Bird                               2371          51            70  2631  \n",
       "Crab/Lobster/Shrimp                   0           0             1     2  \n",
       "Fish                                 66          40            10   151  \n",
       "Fungi                                 2           0             1     4  \n",
       "Insect                              107           4            12   141  \n",
       "Invertebrate                          1           7             4    21  \n",
       "Mammal                              552          19             1   680  \n",
       "Nonvascular Plant                    27           0             4    31  \n",
       "Reptile                              98          17            16   153  \n",
       "Slug/Snail                           21           1            13    40  \n",
       "Spider/Scorpion                       0           0             0     1  \n",
       "Vascular Plant                      537          37            36   763  \n",
       "All                                3843         184           194  4718  "
      ]
     },
     "execution_count": 18,
     "metadata": {},
     "output_type": "execute_result"
    }
   ],
   "source": [
    "#df_cons_spe = pd.crosstab(df2['Category'], df2['Conservation Status'], margins=True)\n",
    "#df_cons_spe"
   ]
  },
  {
   "cell_type": "code",
   "execution_count": 19,
   "metadata": {},
   "outputs": [
    {
     "data": {
      "text/plain": [
       "1      3\n",
       "17     2\n",
       "5      2\n",
       "33     1\n",
       "93     1\n",
       "9      1\n",
       "374    1\n",
       "128    1\n",
       "0      1\n",
       "64     1\n",
       "Name: Endangered, dtype: int64"
      ]
     },
     "execution_count": 19,
     "metadata": {},
     "output_type": "execute_result"
    }
   ],
   "source": [
    "df_cons_spe['Endangered'].value_counts()"
   ]
  },
  {
   "cell_type": "code",
   "execution_count": null,
   "metadata": {},
   "outputs": [],
   "source": []
  }
 ],
 "metadata": {
  "kernelspec": {
   "display_name": "Python 3",
   "language": "python",
   "name": "python3"
  },
  "language_info": {
   "codemirror_mode": {
    "name": "ipython",
    "version": 3
   },
   "file_extension": ".py",
   "mimetype": "text/x-python",
   "name": "python",
   "nbconvert_exporter": "python",
   "pygments_lexer": "ipython3",
   "version": "3.7.4"
  }
 },
 "nbformat": 4,
 "nbformat_minor": 2
}
